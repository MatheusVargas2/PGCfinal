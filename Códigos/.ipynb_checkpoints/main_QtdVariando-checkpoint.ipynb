{
 "cells": [
  {
   "cell_type": "markdown",
   "metadata": {},
   "source": [
    "##### Importar módulos de implementação dos algoritmos"
   ]
  },
  {
   "cell_type": "code",
   "execution_count": 1,
   "metadata": {
    "ExecuteTime": {
     "end_time": "2020-03-04T00:37:30.991778Z",
     "start_time": "2020-03-04T00:37:30.982681Z"
    }
   },
   "outputs": [],
   "source": [
    "from models import *\n",
    "from utils import *"
   ]
  },
  {
   "cell_type": "markdown",
   "metadata": {},
   "source": [
    "##### Carrega os dados tratados"
   ]
  },
  {
   "cell_type": "code",
   "execution_count": 2,
   "metadata": {
    "ExecuteTime": {
     "end_time": "2020-03-04T00:37:52.283385Z",
     "start_time": "2020-03-04T00:37:32.434130Z"
    }
   },
   "outputs": [],
   "source": [
    "gun = pd.read_csv(\"../Datasets/Tratados/GunControl_400.csv\", low_memory=False).fillna(\"\").iloc[:, 10:]\n",
    "gay = pd.read_csv(\"../Datasets/Tratados/GayMarriage_400.csv\", low_memory=False).fillna(\"\").iloc[:, 10:]\n",
    "rest = pd.read_csv(\"../Datasets/Tratados/ReviewAMT_500_t.csv\", low_memory=False).fillna(\"\").iloc[:, 11:]"
   ]
  },
  {
   "cell_type": "markdown",
   "metadata": {},
   "source": [
    "# Metodologia padrão (LOO)"
   ]
  },
  {
   "cell_type": "markdown",
   "metadata": {},
   "source": [
    "##### Iteração entre Qtd de Usuários (até 200)"
   ]
  },
  {
   "cell_type": "code",
   "execution_count": 3,
   "metadata": {
    "ExecuteTime": {
     "end_time": "2020-03-05T02:20:47.831135Z",
     "start_time": "2020-03-04T00:45:57.710282Z"
    },
    "scrolled": true
   },
   "outputs": [
    {
     "name": "stdout",
     "output_type": "stream",
     "text": [
      "=========== Treinando/Validando modelos utilizando 10 usuários ===========\n",
      "+++ Preparando dados +++\n",
      "+++ Executando k-fold +++\n",
      "+++ Executando técnica 1 +++\n"
     ]
    },
    {
     "data": {
      "application/vnd.jupyter.widget-view+json": {
       "model_id": "44eb373939a94a6081752c41c1bd090b",
       "version_major": 2,
       "version_minor": 0
      },
      "text/plain": [
       "HBox(children=(FloatProgress(value=0.0, max=160.0), HTML(value='')))"
      ]
     },
     "metadata": {},
     "output_type": "display_data"
    },
    {
     "name": "stdout",
     "output_type": "stream",
     "text": [
      "\n",
      "+++ Executando técnica 2 +++\n"
     ]
    },
    {
     "data": {
      "application/vnd.jupyter.widget-view+json": {
       "model_id": "1905d22a606646adb75d315651bbafd7",
       "version_major": 2,
       "version_minor": 0
      },
      "text/plain": [
       "HBox(children=(FloatProgress(value=0.0, max=160.0), HTML(value='')))"
      ]
     },
     "metadata": {},
     "output_type": "display_data"
    },
    {
     "name": "stdout",
     "output_type": "stream",
     "text": [
      "\n",
      "+++ Executando técnica 3 +++\n"
     ]
    },
    {
     "data": {
      "application/vnd.jupyter.widget-view+json": {
       "model_id": "a0bf0bb4033c42d5b35347af021cb70b",
       "version_major": 2,
       "version_minor": 0
      },
      "text/plain": [
       "HBox(children=(FloatProgress(value=0.0, max=160.0), HTML(value='')))"
      ]
     },
     "metadata": {},
     "output_type": "display_data"
    },
    {
     "name": "stdout",
     "output_type": "stream",
     "text": [
      "\n",
      "+++ Executando técnica 4 +++\n"
     ]
    },
    {
     "data": {
      "application/vnd.jupyter.widget-view+json": {
       "model_id": "579d420aa473464daedd6f202231278f",
       "version_major": 2,
       "version_minor": 0
      },
      "text/plain": [
       "HBox(children=(FloatProgress(value=1.0, bar_style='info', max=1.0), HTML(value='')))"
      ]
     },
     "metadata": {},
     "output_type": "display_data"
    },
    {
     "name": "stdout",
     "output_type": "stream",
     "text": [
      "\n"
     ]
    },
    {
     "data": {
      "application/vnd.jupyter.widget-view+json": {
       "model_id": "ab651248aee941c49c1f1ef68bebd61c",
       "version_major": 2,
       "version_minor": 0
      },
      "text/plain": [
       "HBox(children=(FloatProgress(value=0.0, max=160.0), HTML(value='')))"
      ]
     },
     "metadata": {},
     "output_type": "display_data"
    },
    {
     "name": "stdout",
     "output_type": "stream",
     "text": [
      "\n"
     ]
    },
    {
     "data": {
      "application/vnd.jupyter.widget-view+json": {
       "model_id": "2e6bae518a984cab9e0604b82c6dce7f",
       "version_major": 2,
       "version_minor": 0
      },
      "text/plain": [
       "HBox(children=(FloatProgress(value=0.0, max=160.0), HTML(value='')))"
      ]
     },
     "metadata": {},
     "output_type": "display_data"
    },
    {
     "name": "stdout",
     "output_type": "stream",
     "text": [
      "\n"
     ]
    },
    {
     "data": {
      "application/vnd.jupyter.widget-view+json": {
       "model_id": "fc217e64cc804939a324252ca8f64690",
       "version_major": 2,
       "version_minor": 0
      },
      "text/plain": [
       "HBox(children=(FloatProgress(value=0.0, max=160.0), HTML(value='')))"
      ]
     },
     "metadata": {},
     "output_type": "display_data"
    },
    {
     "name": "stdout",
     "output_type": "stream",
     "text": [
      "\n",
      "+++ Executando técnica 5 +++\n"
     ]
    },
    {
     "data": {
      "application/vnd.jupyter.widget-view+json": {
       "model_id": "fd4829c3518b464eb1feff8ce8b3abd2",
       "version_major": 2,
       "version_minor": 0
      },
      "text/plain": [
       "HBox(children=(FloatProgress(value=1.0, bar_style='info', max=1.0), HTML(value='')))"
      ]
     },
     "metadata": {},
     "output_type": "display_data"
    },
    {
     "name": "stdout",
     "output_type": "stream",
     "text": [
      "\n"
     ]
    },
    {
     "data": {
      "application/vnd.jupyter.widget-view+json": {
       "model_id": "d3cfb69d6ec34ec99de0b56eae646199",
       "version_major": 2,
       "version_minor": 0
      },
      "text/plain": [
       "HBox(children=(FloatProgress(value=0.0, max=160.0), HTML(value='')))"
      ]
     },
     "metadata": {},
     "output_type": "display_data"
    },
    {
     "name": "stdout",
     "output_type": "stream",
     "text": [
      "\n"
     ]
    },
    {
     "data": {
      "application/vnd.jupyter.widget-view+json": {
       "model_id": "c200a9ad37f84ef9921a783a679f5285",
       "version_major": 2,
       "version_minor": 0
      },
      "text/plain": [
       "HBox(children=(FloatProgress(value=0.0, max=160.0), HTML(value='')))"
      ]
     },
     "metadata": {},
     "output_type": "display_data"
    },
    {
     "name": "stdout",
     "output_type": "stream",
     "text": [
      "\n"
     ]
    },
    {
     "data": {
      "application/vnd.jupyter.widget-view+json": {
       "model_id": "0c2eafdb4f174477b353b82c29d061ef",
       "version_major": 2,
       "version_minor": 0
      },
      "text/plain": [
       "HBox(children=(FloatProgress(value=0.0, max=160.0), HTML(value='')))"
      ]
     },
     "metadata": {},
     "output_type": "display_data"
    },
    {
     "name": "stdout",
     "output_type": "stream",
     "text": [
      "\n",
      "+++ Salvaldo Resultados +++\n",
      "\n",
      "\n",
      "=========== Treinando/Validando modelos utilizando 20 usuários ===========\n",
      "+++ Preparando dados +++\n",
      "+++ Executando k-fold +++\n",
      "+++ Executando técnica 1 +++\n"
     ]
    },
    {
     "data": {
      "application/vnd.jupyter.widget-view+json": {
       "model_id": "7cecf27a571e4f999ecad7017f9102c7",
       "version_major": 2,
       "version_minor": 0
      },
      "text/plain": [
       "HBox(children=(FloatProgress(value=0.0, max=320.0), HTML(value='')))"
      ]
     },
     "metadata": {},
     "output_type": "display_data"
    },
    {
     "name": "stdout",
     "output_type": "stream",
     "text": [
      "\n",
      "+++ Executando técnica 2 +++\n"
     ]
    },
    {
     "data": {
      "application/vnd.jupyter.widget-view+json": {
       "model_id": "3b77f682175546afb8da6b48887d52a3",
       "version_major": 2,
       "version_minor": 0
      },
      "text/plain": [
       "HBox(children=(FloatProgress(value=0.0, max=320.0), HTML(value='')))"
      ]
     },
     "metadata": {},
     "output_type": "display_data"
    },
    {
     "name": "stdout",
     "output_type": "stream",
     "text": [
      "\n",
      "+++ Executando técnica 3 +++\n"
     ]
    },
    {
     "data": {
      "application/vnd.jupyter.widget-view+json": {
       "model_id": "7e11d932e350440db8e7a4cdd36f7037",
       "version_major": 2,
       "version_minor": 0
      },
      "text/plain": [
       "HBox(children=(FloatProgress(value=0.0, max=320.0), HTML(value='')))"
      ]
     },
     "metadata": {},
     "output_type": "display_data"
    },
    {
     "name": "stdout",
     "output_type": "stream",
     "text": [
      "\n",
      "+++ Executando técnica 4 +++\n"
     ]
    },
    {
     "data": {
      "application/vnd.jupyter.widget-view+json": {
       "model_id": "f30d230dafad4d62b465d8baab51a525",
       "version_major": 2,
       "version_minor": 0
      },
      "text/plain": [
       "HBox(children=(FloatProgress(value=1.0, bar_style='info', max=1.0), HTML(value='')))"
      ]
     },
     "metadata": {},
     "output_type": "display_data"
    },
    {
     "name": "stdout",
     "output_type": "stream",
     "text": [
      "\n"
     ]
    },
    {
     "data": {
      "application/vnd.jupyter.widget-view+json": {
       "model_id": "c639449ef6c34495b73c75064c95c208",
       "version_major": 2,
       "version_minor": 0
      },
      "text/plain": [
       "HBox(children=(FloatProgress(value=0.0, max=320.0), HTML(value='')))"
      ]
     },
     "metadata": {},
     "output_type": "display_data"
    },
    {
     "name": "stdout",
     "output_type": "stream",
     "text": [
      "\n"
     ]
    },
    {
     "data": {
      "application/vnd.jupyter.widget-view+json": {
       "model_id": "cf5159658254402b8b99089876a52a24",
       "version_major": 2,
       "version_minor": 0
      },
      "text/plain": [
       "HBox(children=(FloatProgress(value=0.0, max=320.0), HTML(value='')))"
      ]
     },
     "metadata": {},
     "output_type": "display_data"
    },
    {
     "name": "stdout",
     "output_type": "stream",
     "text": [
      "\n"
     ]
    },
    {
     "data": {
      "application/vnd.jupyter.widget-view+json": {
       "model_id": "17e9eb4d082e4f18a520a110b1b231c3",
       "version_major": 2,
       "version_minor": 0
      },
      "text/plain": [
       "HBox(children=(FloatProgress(value=0.0, max=320.0), HTML(value='')))"
      ]
     },
     "metadata": {},
     "output_type": "display_data"
    },
    {
     "name": "stdout",
     "output_type": "stream",
     "text": [
      "\n",
      "+++ Executando técnica 5 +++\n"
     ]
    },
    {
     "data": {
      "application/vnd.jupyter.widget-view+json": {
       "model_id": "6e5d998e513145f19926f6bbca06edea",
       "version_major": 2,
       "version_minor": 0
      },
      "text/plain": [
       "HBox(children=(FloatProgress(value=1.0, bar_style='info', max=1.0), HTML(value='')))"
      ]
     },
     "metadata": {},
     "output_type": "display_data"
    },
    {
     "name": "stdout",
     "output_type": "stream",
     "text": [
      "\n"
     ]
    },
    {
     "data": {
      "application/vnd.jupyter.widget-view+json": {
       "model_id": "8d54a4b6859048b48c8881aec405f60f",
       "version_major": 2,
       "version_minor": 0
      },
      "text/plain": [
       "HBox(children=(FloatProgress(value=0.0, max=320.0), HTML(value='')))"
      ]
     },
     "metadata": {},
     "output_type": "display_data"
    },
    {
     "name": "stdout",
     "output_type": "stream",
     "text": [
      "\n"
     ]
    },
    {
     "data": {
      "application/vnd.jupyter.widget-view+json": {
       "model_id": "4036a9097d1c4dd2924a40940535bb5f",
       "version_major": 2,
       "version_minor": 0
      },
      "text/plain": [
       "HBox(children=(FloatProgress(value=0.0, max=320.0), HTML(value='')))"
      ]
     },
     "metadata": {},
     "output_type": "display_data"
    },
    {
     "name": "stdout",
     "output_type": "stream",
     "text": [
      "\n"
     ]
    },
    {
     "data": {
      "application/vnd.jupyter.widget-view+json": {
       "model_id": "0dc9402c1b6f4e82996c8767389ab6d6",
       "version_major": 2,
       "version_minor": 0
      },
      "text/plain": [
       "HBox(children=(FloatProgress(value=0.0, max=320.0), HTML(value='')))"
      ]
     },
     "metadata": {},
     "output_type": "display_data"
    },
    {
     "name": "stdout",
     "output_type": "stream",
     "text": [
      "\n",
      "+++ Salvaldo Resultados +++\n",
      "\n",
      "\n",
      "=========== Treinando/Validando modelos utilizando 30 usuários ===========\n",
      "+++ Preparando dados +++\n",
      "+++ Executando k-fold +++\n",
      "+++ Executando técnica 1 +++\n"
     ]
    },
    {
     "data": {
      "application/vnd.jupyter.widget-view+json": {
       "model_id": "83d8ef5fae6a4f499a3819ccb9bf1db9",
       "version_major": 2,
       "version_minor": 0
      },
      "text/plain": [
       "HBox(children=(FloatProgress(value=0.0, max=480.0), HTML(value='')))"
      ]
     },
     "metadata": {},
     "output_type": "display_data"
    },
    {
     "name": "stdout",
     "output_type": "stream",
     "text": [
      "\n",
      "+++ Executando técnica 2 +++\n"
     ]
    },
    {
     "data": {
      "application/vnd.jupyter.widget-view+json": {
       "model_id": "7418097045134ff78eb5c0a8e81a8773",
       "version_major": 2,
       "version_minor": 0
      },
      "text/plain": [
       "HBox(children=(FloatProgress(value=0.0, max=480.0), HTML(value='')))"
      ]
     },
     "metadata": {},
     "output_type": "display_data"
    },
    {
     "name": "stdout",
     "output_type": "stream",
     "text": [
      "\n",
      "+++ Executando técnica 3 +++\n"
     ]
    },
    {
     "data": {
      "application/vnd.jupyter.widget-view+json": {
       "model_id": "20230e35dbfc4c948e1a02a93bef370b",
       "version_major": 2,
       "version_minor": 0
      },
      "text/plain": [
       "HBox(children=(FloatProgress(value=0.0, max=480.0), HTML(value='')))"
      ]
     },
     "metadata": {},
     "output_type": "display_data"
    },
    {
     "name": "stdout",
     "output_type": "stream",
     "text": [
      "\n",
      "+++ Executando técnica 4 +++\n"
     ]
    },
    {
     "data": {
      "application/vnd.jupyter.widget-view+json": {
       "model_id": "f24bbdfdac6242f7bd3cdc7fa0118ead",
       "version_major": 2,
       "version_minor": 0
      },
      "text/plain": [
       "HBox(children=(FloatProgress(value=1.0, bar_style='info', max=1.0), HTML(value='')))"
      ]
     },
     "metadata": {},
     "output_type": "display_data"
    },
    {
     "name": "stdout",
     "output_type": "stream",
     "text": [
      "\n"
     ]
    },
    {
     "data": {
      "application/vnd.jupyter.widget-view+json": {
       "model_id": "e1d9b3d2292943c29252552a5eda4669",
       "version_major": 2,
       "version_minor": 0
      },
      "text/plain": [
       "HBox(children=(FloatProgress(value=0.0, max=480.0), HTML(value='')))"
      ]
     },
     "metadata": {},
     "output_type": "display_data"
    },
    {
     "name": "stdout",
     "output_type": "stream",
     "text": [
      "\n"
     ]
    },
    {
     "data": {
      "application/vnd.jupyter.widget-view+json": {
       "model_id": "dbc8246f32744716a11add08ed4a76ad",
       "version_major": 2,
       "version_minor": 0
      },
      "text/plain": [
       "HBox(children=(FloatProgress(value=0.0, max=480.0), HTML(value='')))"
      ]
     },
     "metadata": {},
     "output_type": "display_data"
    },
    {
     "name": "stdout",
     "output_type": "stream",
     "text": [
      "\n"
     ]
    },
    {
     "data": {
      "application/vnd.jupyter.widget-view+json": {
       "model_id": "a94e8cc1edd649708ee6e1afa98ac906",
       "version_major": 2,
       "version_minor": 0
      },
      "text/plain": [
       "HBox(children=(FloatProgress(value=0.0, max=480.0), HTML(value='')))"
      ]
     },
     "metadata": {},
     "output_type": "display_data"
    },
    {
     "name": "stdout",
     "output_type": "stream",
     "text": [
      "\n",
      "+++ Executando técnica 5 +++\n"
     ]
    },
    {
     "data": {
      "application/vnd.jupyter.widget-view+json": {
       "model_id": "cf6ca7c56f1d4d73b1cf38aed514539b",
       "version_major": 2,
       "version_minor": 0
      },
      "text/plain": [
       "HBox(children=(FloatProgress(value=1.0, bar_style='info', max=1.0), HTML(value='')))"
      ]
     },
     "metadata": {},
     "output_type": "display_data"
    },
    {
     "name": "stdout",
     "output_type": "stream",
     "text": [
      "\n"
     ]
    },
    {
     "data": {
      "application/vnd.jupyter.widget-view+json": {
       "model_id": "55f08e6c7bd246f7b16eeb692844266d",
       "version_major": 2,
       "version_minor": 0
      },
      "text/plain": [
       "HBox(children=(FloatProgress(value=0.0, max=480.0), HTML(value='')))"
      ]
     },
     "metadata": {},
     "output_type": "display_data"
    },
    {
     "name": "stdout",
     "output_type": "stream",
     "text": [
      "\n"
     ]
    },
    {
     "data": {
      "application/vnd.jupyter.widget-view+json": {
       "model_id": "ae4c2f5e4fcd41e5afa8ac797d6159af",
       "version_major": 2,
       "version_minor": 0
      },
      "text/plain": [
       "HBox(children=(FloatProgress(value=0.0, max=480.0), HTML(value='')))"
      ]
     },
     "metadata": {},
     "output_type": "display_data"
    },
    {
     "name": "stdout",
     "output_type": "stream",
     "text": [
      "\n"
     ]
    },
    {
     "data": {
      "application/vnd.jupyter.widget-view+json": {
       "model_id": "8142dd1e3d1a4c1a986033e83d6b01c2",
       "version_major": 2,
       "version_minor": 0
      },
      "text/plain": [
       "HBox(children=(FloatProgress(value=0.0, max=480.0), HTML(value='')))"
      ]
     },
     "metadata": {},
     "output_type": "display_data"
    },
    {
     "name": "stdout",
     "output_type": "stream",
     "text": [
      "\n",
      "+++ Salvaldo Resultados +++\n",
      "\n",
      "\n",
      "=========== Treinando/Validando modelos utilizando 40 usuários ===========\n",
      "+++ Preparando dados +++\n",
      "+++ Executando k-fold +++\n",
      "+++ Executando técnica 1 +++\n"
     ]
    },
    {
     "data": {
      "application/vnd.jupyter.widget-view+json": {
       "model_id": "514bd71149834ace9c4ed589cecca955",
       "version_major": 2,
       "version_minor": 0
      },
      "text/plain": [
       "HBox(children=(FloatProgress(value=0.0, max=640.0), HTML(value='')))"
      ]
     },
     "metadata": {},
     "output_type": "display_data"
    },
    {
     "name": "stdout",
     "output_type": "stream",
     "text": [
      "\n",
      "+++ Executando técnica 2 +++\n"
     ]
    },
    {
     "data": {
      "application/vnd.jupyter.widget-view+json": {
       "model_id": "b6a52667142a45b19baf098a7c85f227",
       "version_major": 2,
       "version_minor": 0
      },
      "text/plain": [
       "HBox(children=(FloatProgress(value=0.0, max=640.0), HTML(value='')))"
      ]
     },
     "metadata": {},
     "output_type": "display_data"
    },
    {
     "name": "stdout",
     "output_type": "stream",
     "text": [
      "\n",
      "+++ Executando técnica 3 +++\n"
     ]
    },
    {
     "data": {
      "application/vnd.jupyter.widget-view+json": {
       "model_id": "538c351eb36b46489d3ee54cf5a15b4c",
       "version_major": 2,
       "version_minor": 0
      },
      "text/plain": [
       "HBox(children=(FloatProgress(value=0.0, max=640.0), HTML(value='')))"
      ]
     },
     "metadata": {},
     "output_type": "display_data"
    },
    {
     "name": "stdout",
     "output_type": "stream",
     "text": [
      "\n",
      "+++ Executando técnica 4 +++\n"
     ]
    },
    {
     "data": {
      "application/vnd.jupyter.widget-view+json": {
       "model_id": "2ed885669a2e45cf9d2c859568978d50",
       "version_major": 2,
       "version_minor": 0
      },
      "text/plain": [
       "HBox(children=(FloatProgress(value=1.0, bar_style='info', max=1.0), HTML(value='')))"
      ]
     },
     "metadata": {},
     "output_type": "display_data"
    },
    {
     "name": "stdout",
     "output_type": "stream",
     "text": [
      "\n"
     ]
    },
    {
     "data": {
      "application/vnd.jupyter.widget-view+json": {
       "model_id": "29b8d73e83ce4bff81456e52dfbf0d4c",
       "version_major": 2,
       "version_minor": 0
      },
      "text/plain": [
       "HBox(children=(FloatProgress(value=0.0, max=640.0), HTML(value='')))"
      ]
     },
     "metadata": {},
     "output_type": "display_data"
    },
    {
     "name": "stdout",
     "output_type": "stream",
     "text": [
      "\n"
     ]
    },
    {
     "data": {
      "application/vnd.jupyter.widget-view+json": {
       "model_id": "a32812ce40ca4313ab4acbaefa973903",
       "version_major": 2,
       "version_minor": 0
      },
      "text/plain": [
       "HBox(children=(FloatProgress(value=0.0, max=640.0), HTML(value='')))"
      ]
     },
     "metadata": {},
     "output_type": "display_data"
    },
    {
     "name": "stdout",
     "output_type": "stream",
     "text": [
      "\n"
     ]
    },
    {
     "data": {
      "application/vnd.jupyter.widget-view+json": {
       "model_id": "4237e5e98fc7497bb1c863fc5195864d",
       "version_major": 2,
       "version_minor": 0
      },
      "text/plain": [
       "HBox(children=(FloatProgress(value=0.0, max=640.0), HTML(value='')))"
      ]
     },
     "metadata": {},
     "output_type": "display_data"
    },
    {
     "name": "stdout",
     "output_type": "stream",
     "text": [
      "\n",
      "+++ Executando técnica 5 +++\n"
     ]
    },
    {
     "data": {
      "application/vnd.jupyter.widget-view+json": {
       "model_id": "98c6a5a452ad4e569cd846037b3b2a3d",
       "version_major": 2,
       "version_minor": 0
      },
      "text/plain": [
       "HBox(children=(FloatProgress(value=1.0, bar_style='info', max=1.0), HTML(value='')))"
      ]
     },
     "metadata": {},
     "output_type": "display_data"
    },
    {
     "name": "stdout",
     "output_type": "stream",
     "text": [
      "\n"
     ]
    },
    {
     "data": {
      "application/vnd.jupyter.widget-view+json": {
       "model_id": "d56d662647a848709b218ef73a0ce0c3",
       "version_major": 2,
       "version_minor": 0
      },
      "text/plain": [
       "HBox(children=(FloatProgress(value=0.0, max=640.0), HTML(value='')))"
      ]
     },
     "metadata": {},
     "output_type": "display_data"
    },
    {
     "name": "stdout",
     "output_type": "stream",
     "text": [
      "\n"
     ]
    },
    {
     "data": {
      "application/vnd.jupyter.widget-view+json": {
       "model_id": "5e1d2a6ec9874b249652391ad51c25bc",
       "version_major": 2,
       "version_minor": 0
      },
      "text/plain": [
       "HBox(children=(FloatProgress(value=0.0, max=640.0), HTML(value='')))"
      ]
     },
     "metadata": {},
     "output_type": "display_data"
    },
    {
     "name": "stdout",
     "output_type": "stream",
     "text": [
      "\n"
     ]
    },
    {
     "data": {
      "application/vnd.jupyter.widget-view+json": {
       "model_id": "42cbdcac3d9a434e9d6626b68336145d",
       "version_major": 2,
       "version_minor": 0
      },
      "text/plain": [
       "HBox(children=(FloatProgress(value=0.0, max=640.0), HTML(value='')))"
      ]
     },
     "metadata": {},
     "output_type": "display_data"
    },
    {
     "name": "stdout",
     "output_type": "stream",
     "text": [
      "\n",
      "+++ Salvaldo Resultados +++\n",
      "\n",
      "\n",
      "=========== Treinando/Validando modelos utilizando 50 usuários ===========\n",
      "+++ Preparando dados +++\n",
      "+++ Executando k-fold +++\n",
      "+++ Executando técnica 1 +++\n"
     ]
    },
    {
     "data": {
      "application/vnd.jupyter.widget-view+json": {
       "model_id": "b8ee4670faae433dbb05284df7190be8",
       "version_major": 2,
       "version_minor": 0
      },
      "text/plain": [
       "HBox(children=(FloatProgress(value=0.0, max=800.0), HTML(value='')))"
      ]
     },
     "metadata": {},
     "output_type": "display_data"
    },
    {
     "name": "stdout",
     "output_type": "stream",
     "text": [
      "\n",
      "+++ Executando técnica 2 +++\n"
     ]
    },
    {
     "data": {
      "application/vnd.jupyter.widget-view+json": {
       "model_id": "571114c3fec94351a5b8f48b938746a3",
       "version_major": 2,
       "version_minor": 0
      },
      "text/plain": [
       "HBox(children=(FloatProgress(value=0.0, max=800.0), HTML(value='')))"
      ]
     },
     "metadata": {},
     "output_type": "display_data"
    },
    {
     "name": "stdout",
     "output_type": "stream",
     "text": [
      "\n",
      "+++ Executando técnica 3 +++\n"
     ]
    },
    {
     "data": {
      "application/vnd.jupyter.widget-view+json": {
       "model_id": "b040860c464b4682baaecb881116ff3d",
       "version_major": 2,
       "version_minor": 0
      },
      "text/plain": [
       "HBox(children=(FloatProgress(value=0.0, max=800.0), HTML(value='')))"
      ]
     },
     "metadata": {},
     "output_type": "display_data"
    },
    {
     "name": "stdout",
     "output_type": "stream",
     "text": [
      "\n",
      "+++ Executando técnica 4 +++\n"
     ]
    },
    {
     "data": {
      "application/vnd.jupyter.widget-view+json": {
       "model_id": "f186ffc3221d4742ac41107904e5612c",
       "version_major": 2,
       "version_minor": 0
      },
      "text/plain": [
       "HBox(children=(FloatProgress(value=1.0, bar_style='info', max=1.0), HTML(value='')))"
      ]
     },
     "metadata": {},
     "output_type": "display_data"
    },
    {
     "name": "stdout",
     "output_type": "stream",
     "text": [
      "\n"
     ]
    },
    {
     "data": {
      "application/vnd.jupyter.widget-view+json": {
       "model_id": "07d02c5ef4964de9bcee3f0dd22380e6",
       "version_major": 2,
       "version_minor": 0
      },
      "text/plain": [
       "HBox(children=(FloatProgress(value=0.0, max=800.0), HTML(value='')))"
      ]
     },
     "metadata": {},
     "output_type": "display_data"
    },
    {
     "name": "stdout",
     "output_type": "stream",
     "text": [
      "\n"
     ]
    },
    {
     "data": {
      "application/vnd.jupyter.widget-view+json": {
       "model_id": "75c95c1a8f504ae19b603a4a11ca28f1",
       "version_major": 2,
       "version_minor": 0
      },
      "text/plain": [
       "HBox(children=(FloatProgress(value=0.0, max=800.0), HTML(value='')))"
      ]
     },
     "metadata": {},
     "output_type": "display_data"
    },
    {
     "name": "stdout",
     "output_type": "stream",
     "text": [
      "\n"
     ]
    },
    {
     "data": {
      "application/vnd.jupyter.widget-view+json": {
       "model_id": "3c67b995915d4200ad9ddcbc4072a27c",
       "version_major": 2,
       "version_minor": 0
      },
      "text/plain": [
       "HBox(children=(FloatProgress(value=0.0, max=800.0), HTML(value='')))"
      ]
     },
     "metadata": {},
     "output_type": "display_data"
    },
    {
     "name": "stdout",
     "output_type": "stream",
     "text": [
      "\n",
      "+++ Executando técnica 5 +++\n"
     ]
    },
    {
     "data": {
      "application/vnd.jupyter.widget-view+json": {
       "model_id": "29b94ff12135400fbe3562d3a5b0ca28",
       "version_major": 2,
       "version_minor": 0
      },
      "text/plain": [
       "HBox(children=(FloatProgress(value=1.0, bar_style='info', max=1.0), HTML(value='')))"
      ]
     },
     "metadata": {},
     "output_type": "display_data"
    },
    {
     "name": "stdout",
     "output_type": "stream",
     "text": [
      "\n"
     ]
    },
    {
     "data": {
      "application/vnd.jupyter.widget-view+json": {
       "model_id": "7e70632bb2f647eda69030cd99acbc52",
       "version_major": 2,
       "version_minor": 0
      },
      "text/plain": [
       "HBox(children=(FloatProgress(value=0.0, max=800.0), HTML(value='')))"
      ]
     },
     "metadata": {},
     "output_type": "display_data"
    },
    {
     "name": "stdout",
     "output_type": "stream",
     "text": [
      "\n"
     ]
    },
    {
     "data": {
      "application/vnd.jupyter.widget-view+json": {
       "model_id": "6672cca079384d6db0bc814f574f4eb2",
       "version_major": 2,
       "version_minor": 0
      },
      "text/plain": [
       "HBox(children=(FloatProgress(value=0.0, max=800.0), HTML(value='')))"
      ]
     },
     "metadata": {},
     "output_type": "display_data"
    },
    {
     "name": "stdout",
     "output_type": "stream",
     "text": [
      "\n"
     ]
    },
    {
     "data": {
      "application/vnd.jupyter.widget-view+json": {
       "model_id": "cb886954b3484bb2bb32ae96f5bd4d89",
       "version_major": 2,
       "version_minor": 0
      },
      "text/plain": [
       "HBox(children=(FloatProgress(value=0.0, max=800.0), HTML(value='')))"
      ]
     },
     "metadata": {},
     "output_type": "display_data"
    },
    {
     "name": "stdout",
     "output_type": "stream",
     "text": [
      "\n",
      "+++ Salvaldo Resultados +++\n",
      "\n",
      "\n",
      "=========== Treinando/Validando modelos utilizando 60 usuários ===========\n",
      "+++ Preparando dados +++\n",
      "+++ Executando k-fold +++\n",
      "+++ Executando técnica 1 +++\n"
     ]
    },
    {
     "data": {
      "application/vnd.jupyter.widget-view+json": {
       "model_id": "db3fbfb2dbd64d0c8affbac1086ee9ad",
       "version_major": 2,
       "version_minor": 0
      },
      "text/plain": [
       "HBox(children=(FloatProgress(value=0.0, max=960.0), HTML(value='')))"
      ]
     },
     "metadata": {},
     "output_type": "display_data"
    },
    {
     "name": "stdout",
     "output_type": "stream",
     "text": [
      "\n",
      "+++ Executando técnica 2 +++\n"
     ]
    },
    {
     "data": {
      "application/vnd.jupyter.widget-view+json": {
       "model_id": "82eb14a92d4646729dee7aa39e36e76a",
       "version_major": 2,
       "version_minor": 0
      },
      "text/plain": [
       "HBox(children=(FloatProgress(value=0.0, max=960.0), HTML(value='')))"
      ]
     },
     "metadata": {},
     "output_type": "display_data"
    },
    {
     "name": "stdout",
     "output_type": "stream",
     "text": [
      "\n",
      "+++ Executando técnica 3 +++\n"
     ]
    },
    {
     "data": {
      "application/vnd.jupyter.widget-view+json": {
       "model_id": "08397376a9954b4e905a1efa774c83e7",
       "version_major": 2,
       "version_minor": 0
      },
      "text/plain": [
       "HBox(children=(FloatProgress(value=0.0, max=960.0), HTML(value='')))"
      ]
     },
     "metadata": {},
     "output_type": "display_data"
    },
    {
     "name": "stdout",
     "output_type": "stream",
     "text": [
      "\n",
      "+++ Executando técnica 4 +++\n"
     ]
    },
    {
     "data": {
      "application/vnd.jupyter.widget-view+json": {
       "model_id": "02684b10392e40d7988aa5f610db3d55",
       "version_major": 2,
       "version_minor": 0
      },
      "text/plain": [
       "HBox(children=(FloatProgress(value=1.0, bar_style='info', max=1.0), HTML(value='')))"
      ]
     },
     "metadata": {},
     "output_type": "display_data"
    },
    {
     "name": "stdout",
     "output_type": "stream",
     "text": [
      "\n"
     ]
    },
    {
     "data": {
      "application/vnd.jupyter.widget-view+json": {
       "model_id": "a682d6b5bb0a46ea8c610f8590ff4304",
       "version_major": 2,
       "version_minor": 0
      },
      "text/plain": [
       "HBox(children=(FloatProgress(value=0.0, max=960.0), HTML(value='')))"
      ]
     },
     "metadata": {},
     "output_type": "display_data"
    },
    {
     "name": "stdout",
     "output_type": "stream",
     "text": [
      "\n"
     ]
    },
    {
     "data": {
      "application/vnd.jupyter.widget-view+json": {
       "model_id": "551f7634c1e44ba5b8c90059966972d2",
       "version_major": 2,
       "version_minor": 0
      },
      "text/plain": [
       "HBox(children=(FloatProgress(value=0.0, max=960.0), HTML(value='')))"
      ]
     },
     "metadata": {},
     "output_type": "display_data"
    },
    {
     "name": "stdout",
     "output_type": "stream",
     "text": [
      "\n"
     ]
    },
    {
     "data": {
      "application/vnd.jupyter.widget-view+json": {
       "model_id": "0b7e2242683b4aa19de62141b5a9c4b5",
       "version_major": 2,
       "version_minor": 0
      },
      "text/plain": [
       "HBox(children=(FloatProgress(value=0.0, max=960.0), HTML(value='')))"
      ]
     },
     "metadata": {},
     "output_type": "display_data"
    },
    {
     "name": "stdout",
     "output_type": "stream",
     "text": [
      "\n",
      "+++ Executando técnica 5 +++\n"
     ]
    },
    {
     "data": {
      "application/vnd.jupyter.widget-view+json": {
       "model_id": "a05e052e95c94b55a0744cacbf441d7a",
       "version_major": 2,
       "version_minor": 0
      },
      "text/plain": [
       "HBox(children=(FloatProgress(value=1.0, bar_style='info', max=1.0), HTML(value='')))"
      ]
     },
     "metadata": {},
     "output_type": "display_data"
    },
    {
     "name": "stdout",
     "output_type": "stream",
     "text": [
      "\n"
     ]
    },
    {
     "data": {
      "application/vnd.jupyter.widget-view+json": {
       "model_id": "8cadc7b818244864bf42fa433c253681",
       "version_major": 2,
       "version_minor": 0
      },
      "text/plain": [
       "HBox(children=(FloatProgress(value=0.0, max=960.0), HTML(value='')))"
      ]
     },
     "metadata": {},
     "output_type": "display_data"
    },
    {
     "name": "stdout",
     "output_type": "stream",
     "text": [
      "\n"
     ]
    },
    {
     "data": {
      "application/vnd.jupyter.widget-view+json": {
       "model_id": "07faa5bca46f451ebab81e61076084d4",
       "version_major": 2,
       "version_minor": 0
      },
      "text/plain": [
       "HBox(children=(FloatProgress(value=0.0, max=960.0), HTML(value='')))"
      ]
     },
     "metadata": {},
     "output_type": "display_data"
    },
    {
     "name": "stdout",
     "output_type": "stream",
     "text": [
      "\n"
     ]
    },
    {
     "data": {
      "application/vnd.jupyter.widget-view+json": {
       "model_id": "35807ea55d734099938a58fe9f611229",
       "version_major": 2,
       "version_minor": 0
      },
      "text/plain": [
       "HBox(children=(FloatProgress(value=0.0, max=960.0), HTML(value='')))"
      ]
     },
     "metadata": {},
     "output_type": "display_data"
    },
    {
     "name": "stdout",
     "output_type": "stream",
     "text": [
      "\n",
      "+++ Salvaldo Resultados +++\n",
      "\n",
      "\n",
      "=========== Treinando/Validando modelos utilizando 70 usuários ===========\n",
      "+++ Preparando dados +++\n",
      "+++ Executando k-fold +++\n",
      "+++ Executando técnica 1 +++\n"
     ]
    },
    {
     "data": {
      "application/vnd.jupyter.widget-view+json": {
       "model_id": "d3e77b75d6ed4b5689660d78e7b26ca5",
       "version_major": 2,
       "version_minor": 0
      },
      "text/plain": [
       "HBox(children=(FloatProgress(value=0.0, max=1120.0), HTML(value='')))"
      ]
     },
     "metadata": {},
     "output_type": "display_data"
    },
    {
     "name": "stdout",
     "output_type": "stream",
     "text": [
      "\n",
      "+++ Executando técnica 2 +++\n"
     ]
    },
    {
     "data": {
      "application/vnd.jupyter.widget-view+json": {
       "model_id": "f2645f48e063448caae18860b1aea623",
       "version_major": 2,
       "version_minor": 0
      },
      "text/plain": [
       "HBox(children=(FloatProgress(value=0.0, max=1120.0), HTML(value='')))"
      ]
     },
     "metadata": {},
     "output_type": "display_data"
    },
    {
     "name": "stdout",
     "output_type": "stream",
     "text": [
      "\n",
      "+++ Executando técnica 3 +++\n"
     ]
    },
    {
     "data": {
      "application/vnd.jupyter.widget-view+json": {
       "model_id": "8ce7f4448ac74532a152f06222926c11",
       "version_major": 2,
       "version_minor": 0
      },
      "text/plain": [
       "HBox(children=(FloatProgress(value=0.0, max=1120.0), HTML(value='')))"
      ]
     },
     "metadata": {},
     "output_type": "display_data"
    },
    {
     "name": "stdout",
     "output_type": "stream",
     "text": [
      "\n",
      "+++ Executando técnica 4 +++\n"
     ]
    },
    {
     "data": {
      "application/vnd.jupyter.widget-view+json": {
       "model_id": "fbd5fdb4b65e438abce959a6241b9850",
       "version_major": 2,
       "version_minor": 0
      },
      "text/plain": [
       "HBox(children=(FloatProgress(value=1.0, bar_style='info', max=1.0), HTML(value='')))"
      ]
     },
     "metadata": {},
     "output_type": "display_data"
    },
    {
     "name": "stdout",
     "output_type": "stream",
     "text": [
      "\n"
     ]
    },
    {
     "data": {
      "application/vnd.jupyter.widget-view+json": {
       "model_id": "9b5f919b9c0b4c409e21fd7183272c91",
       "version_major": 2,
       "version_minor": 0
      },
      "text/plain": [
       "HBox(children=(FloatProgress(value=0.0, max=1120.0), HTML(value='')))"
      ]
     },
     "metadata": {},
     "output_type": "display_data"
    },
    {
     "name": "stdout",
     "output_type": "stream",
     "text": [
      "\n"
     ]
    },
    {
     "data": {
      "application/vnd.jupyter.widget-view+json": {
       "model_id": "74ae8641d39641b58373b732496c37c8",
       "version_major": 2,
       "version_minor": 0
      },
      "text/plain": [
       "HBox(children=(FloatProgress(value=0.0, max=1120.0), HTML(value='')))"
      ]
     },
     "metadata": {},
     "output_type": "display_data"
    },
    {
     "name": "stdout",
     "output_type": "stream",
     "text": [
      "\n"
     ]
    },
    {
     "data": {
      "application/vnd.jupyter.widget-view+json": {
       "model_id": "a38ad9eeacbd44f281f553cca938a624",
       "version_major": 2,
       "version_minor": 0
      },
      "text/plain": [
       "HBox(children=(FloatProgress(value=0.0, max=1120.0), HTML(value='')))"
      ]
     },
     "metadata": {},
     "output_type": "display_data"
    },
    {
     "name": "stdout",
     "output_type": "stream",
     "text": [
      "\n",
      "+++ Executando técnica 5 +++\n"
     ]
    },
    {
     "data": {
      "application/vnd.jupyter.widget-view+json": {
       "model_id": "5ea6f35d088e42649a9ed8e15e0111c0",
       "version_major": 2,
       "version_minor": 0
      },
      "text/plain": [
       "HBox(children=(FloatProgress(value=1.0, bar_style='info', max=1.0), HTML(value='')))"
      ]
     },
     "metadata": {},
     "output_type": "display_data"
    },
    {
     "name": "stdout",
     "output_type": "stream",
     "text": [
      "\n"
     ]
    },
    {
     "data": {
      "application/vnd.jupyter.widget-view+json": {
       "model_id": "a6c63196c7504b4fa3ca55ddf95b609e",
       "version_major": 2,
       "version_minor": 0
      },
      "text/plain": [
       "HBox(children=(FloatProgress(value=0.0, max=1120.0), HTML(value='')))"
      ]
     },
     "metadata": {},
     "output_type": "display_data"
    },
    {
     "name": "stdout",
     "output_type": "stream",
     "text": [
      "\n"
     ]
    },
    {
     "data": {
      "application/vnd.jupyter.widget-view+json": {
       "model_id": "d2a5d9ad551f45f889b14e4b94e03961",
       "version_major": 2,
       "version_minor": 0
      },
      "text/plain": [
       "HBox(children=(FloatProgress(value=0.0, max=1120.0), HTML(value='')))"
      ]
     },
     "metadata": {},
     "output_type": "display_data"
    },
    {
     "name": "stdout",
     "output_type": "stream",
     "text": [
      "\n"
     ]
    },
    {
     "data": {
      "application/vnd.jupyter.widget-view+json": {
       "model_id": "84a13ec86981478180fbc7135447fd9b",
       "version_major": 2,
       "version_minor": 0
      },
      "text/plain": [
       "HBox(children=(FloatProgress(value=0.0, max=1120.0), HTML(value='')))"
      ]
     },
     "metadata": {},
     "output_type": "display_data"
    },
    {
     "name": "stdout",
     "output_type": "stream",
     "text": [
      "\n",
      "+++ Salvaldo Resultados +++\n",
      "\n",
      "\n",
      "=========== Treinando/Validando modelos utilizando 80 usuários ===========\n",
      "+++ Preparando dados +++\n",
      "+++ Executando k-fold +++\n",
      "+++ Executando técnica 1 +++\n"
     ]
    },
    {
     "data": {
      "application/vnd.jupyter.widget-view+json": {
       "model_id": "ebdb90191fe144979a103ba78fbe0d8e",
       "version_major": 2,
       "version_minor": 0
      },
      "text/plain": [
       "HBox(children=(FloatProgress(value=0.0, max=1280.0), HTML(value='')))"
      ]
     },
     "metadata": {},
     "output_type": "display_data"
    },
    {
     "name": "stdout",
     "output_type": "stream",
     "text": [
      "\n",
      "+++ Executando técnica 2 +++\n"
     ]
    },
    {
     "data": {
      "application/vnd.jupyter.widget-view+json": {
       "model_id": "f172e4ae9a1d4c0689d92daa084b8b8c",
       "version_major": 2,
       "version_minor": 0
      },
      "text/plain": [
       "HBox(children=(FloatProgress(value=0.0, max=1280.0), HTML(value='')))"
      ]
     },
     "metadata": {},
     "output_type": "display_data"
    },
    {
     "name": "stdout",
     "output_type": "stream",
     "text": [
      "\n",
      "+++ Executando técnica 3 +++\n"
     ]
    },
    {
     "data": {
      "application/vnd.jupyter.widget-view+json": {
       "model_id": "feac5e8e46ca41bdb9ce190d66e4e657",
       "version_major": 2,
       "version_minor": 0
      },
      "text/plain": [
       "HBox(children=(FloatProgress(value=0.0, max=1280.0), HTML(value='')))"
      ]
     },
     "metadata": {},
     "output_type": "display_data"
    },
    {
     "name": "stdout",
     "output_type": "stream",
     "text": [
      "\n",
      "+++ Executando técnica 4 +++\n"
     ]
    },
    {
     "data": {
      "application/vnd.jupyter.widget-view+json": {
       "model_id": "13dabfbd465946fa8c1c5f85938cb68f",
       "version_major": 2,
       "version_minor": 0
      },
      "text/plain": [
       "HBox(children=(FloatProgress(value=1.0, bar_style='info', max=1.0), HTML(value='')))"
      ]
     },
     "metadata": {},
     "output_type": "display_data"
    },
    {
     "name": "stdout",
     "output_type": "stream",
     "text": [
      "\n"
     ]
    },
    {
     "data": {
      "application/vnd.jupyter.widget-view+json": {
       "model_id": "028962c2fe5e42c99816596a5b957b5b",
       "version_major": 2,
       "version_minor": 0
      },
      "text/plain": [
       "HBox(children=(FloatProgress(value=0.0, max=1280.0), HTML(value='')))"
      ]
     },
     "metadata": {},
     "output_type": "display_data"
    },
    {
     "name": "stdout",
     "output_type": "stream",
     "text": [
      "\n"
     ]
    },
    {
     "data": {
      "application/vnd.jupyter.widget-view+json": {
       "model_id": "6dcaaa50c9a143c6bc27a4a47d7cf2b0",
       "version_major": 2,
       "version_minor": 0
      },
      "text/plain": [
       "HBox(children=(FloatProgress(value=0.0, max=1280.0), HTML(value='')))"
      ]
     },
     "metadata": {},
     "output_type": "display_data"
    },
    {
     "name": "stdout",
     "output_type": "stream",
     "text": [
      "\n"
     ]
    },
    {
     "data": {
      "application/vnd.jupyter.widget-view+json": {
       "model_id": "fa63c142abc04c918ea73c2b13125397",
       "version_major": 2,
       "version_minor": 0
      },
      "text/plain": [
       "HBox(children=(FloatProgress(value=0.0, max=1280.0), HTML(value='')))"
      ]
     },
     "metadata": {},
     "output_type": "display_data"
    },
    {
     "name": "stdout",
     "output_type": "stream",
     "text": [
      "\n",
      "+++ Executando técnica 5 +++\n"
     ]
    },
    {
     "data": {
      "application/vnd.jupyter.widget-view+json": {
       "model_id": "fede5248686d4f0398e0ceeafe1b4304",
       "version_major": 2,
       "version_minor": 0
      },
      "text/plain": [
       "HBox(children=(FloatProgress(value=1.0, bar_style='info', max=1.0), HTML(value='')))"
      ]
     },
     "metadata": {},
     "output_type": "display_data"
    },
    {
     "name": "stdout",
     "output_type": "stream",
     "text": [
      "\n"
     ]
    },
    {
     "data": {
      "application/vnd.jupyter.widget-view+json": {
       "model_id": "85ac8c84894d4a0aad0f2f9f10cc8640",
       "version_major": 2,
       "version_minor": 0
      },
      "text/plain": [
       "HBox(children=(FloatProgress(value=0.0, max=1280.0), HTML(value='')))"
      ]
     },
     "metadata": {},
     "output_type": "display_data"
    },
    {
     "name": "stdout",
     "output_type": "stream",
     "text": [
      "\n"
     ]
    },
    {
     "data": {
      "application/vnd.jupyter.widget-view+json": {
       "model_id": "d9656c3c2c9a425ca8ae09b19e90f64a",
       "version_major": 2,
       "version_minor": 0
      },
      "text/plain": [
       "HBox(children=(FloatProgress(value=0.0, max=1280.0), HTML(value='')))"
      ]
     },
     "metadata": {},
     "output_type": "display_data"
    },
    {
     "name": "stdout",
     "output_type": "stream",
     "text": [
      "\n"
     ]
    },
    {
     "data": {
      "application/vnd.jupyter.widget-view+json": {
       "model_id": "a9b0d75ed1244af1900941cef3705d87",
       "version_major": 2,
       "version_minor": 0
      },
      "text/plain": [
       "HBox(children=(FloatProgress(value=0.0, max=1280.0), HTML(value='')))"
      ]
     },
     "metadata": {},
     "output_type": "display_data"
    },
    {
     "name": "stdout",
     "output_type": "stream",
     "text": [
      "\n",
      "+++ Salvaldo Resultados +++\n",
      "\n",
      "\n",
      "=========== Treinando/Validando modelos utilizando 90 usuários ===========\n",
      "+++ Preparando dados +++\n",
      "+++ Executando k-fold +++\n",
      "+++ Executando técnica 1 +++\n"
     ]
    },
    {
     "data": {
      "application/vnd.jupyter.widget-view+json": {
       "model_id": "7ffc0e4fa6004a78bfa56695c16bcc74",
       "version_major": 2,
       "version_minor": 0
      },
      "text/plain": [
       "HBox(children=(FloatProgress(value=0.0, max=1440.0), HTML(value='')))"
      ]
     },
     "metadata": {},
     "output_type": "display_data"
    },
    {
     "name": "stdout",
     "output_type": "stream",
     "text": [
      "\n",
      "+++ Executando técnica 2 +++\n"
     ]
    },
    {
     "data": {
      "application/vnd.jupyter.widget-view+json": {
       "model_id": "14099bc328fb4f238423f8241665d9ce",
       "version_major": 2,
       "version_minor": 0
      },
      "text/plain": [
       "HBox(children=(FloatProgress(value=0.0, max=1440.0), HTML(value='')))"
      ]
     },
     "metadata": {},
     "output_type": "display_data"
    },
    {
     "name": "stdout",
     "output_type": "stream",
     "text": [
      "\n",
      "+++ Executando técnica 3 +++\n"
     ]
    },
    {
     "data": {
      "application/vnd.jupyter.widget-view+json": {
       "model_id": "866d444dad324d0383a5356187649875",
       "version_major": 2,
       "version_minor": 0
      },
      "text/plain": [
       "HBox(children=(FloatProgress(value=0.0, max=1440.0), HTML(value='')))"
      ]
     },
     "metadata": {},
     "output_type": "display_data"
    },
    {
     "name": "stdout",
     "output_type": "stream",
     "text": [
      "\n",
      "+++ Executando técnica 4 +++\n"
     ]
    },
    {
     "data": {
      "application/vnd.jupyter.widget-view+json": {
       "model_id": "291240ad31114815b8aee47755c39617",
       "version_major": 2,
       "version_minor": 0
      },
      "text/plain": [
       "HBox(children=(FloatProgress(value=1.0, bar_style='info', max=1.0), HTML(value='')))"
      ]
     },
     "metadata": {},
     "output_type": "display_data"
    },
    {
     "name": "stdout",
     "output_type": "stream",
     "text": [
      "\n"
     ]
    },
    {
     "data": {
      "application/vnd.jupyter.widget-view+json": {
       "model_id": "13c5214841234715855b805147f4328f",
       "version_major": 2,
       "version_minor": 0
      },
      "text/plain": [
       "HBox(children=(FloatProgress(value=0.0, max=1440.0), HTML(value='')))"
      ]
     },
     "metadata": {},
     "output_type": "display_data"
    },
    {
     "name": "stdout",
     "output_type": "stream",
     "text": [
      "\n"
     ]
    },
    {
     "data": {
      "application/vnd.jupyter.widget-view+json": {
       "model_id": "d1736615d1c24f72a824bcd975ec37be",
       "version_major": 2,
       "version_minor": 0
      },
      "text/plain": [
       "HBox(children=(FloatProgress(value=0.0, max=1440.0), HTML(value='')))"
      ]
     },
     "metadata": {},
     "output_type": "display_data"
    },
    {
     "name": "stdout",
     "output_type": "stream",
     "text": [
      "\n"
     ]
    },
    {
     "data": {
      "application/vnd.jupyter.widget-view+json": {
       "model_id": "2467288a03f046d78d4d61467cce533c",
       "version_major": 2,
       "version_minor": 0
      },
      "text/plain": [
       "HBox(children=(FloatProgress(value=0.0, max=1440.0), HTML(value='')))"
      ]
     },
     "metadata": {},
     "output_type": "display_data"
    },
    {
     "name": "stdout",
     "output_type": "stream",
     "text": [
      "\n",
      "+++ Executando técnica 5 +++\n"
     ]
    },
    {
     "data": {
      "application/vnd.jupyter.widget-view+json": {
       "model_id": "c8bd1c19775e49b3b78e1b2468a54731",
       "version_major": 2,
       "version_minor": 0
      },
      "text/plain": [
       "HBox(children=(FloatProgress(value=1.0, bar_style='info', max=1.0), HTML(value='')))"
      ]
     },
     "metadata": {},
     "output_type": "display_data"
    },
    {
     "name": "stdout",
     "output_type": "stream",
     "text": [
      "\n"
     ]
    },
    {
     "data": {
      "application/vnd.jupyter.widget-view+json": {
       "model_id": "2b7ecd03282b4b7b87f1a0f468c391d4",
       "version_major": 2,
       "version_minor": 0
      },
      "text/plain": [
       "HBox(children=(FloatProgress(value=0.0, max=1440.0), HTML(value='')))"
      ]
     },
     "metadata": {},
     "output_type": "display_data"
    },
    {
     "name": "stdout",
     "output_type": "stream",
     "text": [
      "\n"
     ]
    },
    {
     "data": {
      "application/vnd.jupyter.widget-view+json": {
       "model_id": "7bbdd3e8d12349b388ab3bcfe6aad37a",
       "version_major": 2,
       "version_minor": 0
      },
      "text/plain": [
       "HBox(children=(FloatProgress(value=0.0, max=1440.0), HTML(value='')))"
      ]
     },
     "metadata": {},
     "output_type": "display_data"
    },
    {
     "name": "stdout",
     "output_type": "stream",
     "text": [
      "\n"
     ]
    },
    {
     "data": {
      "application/vnd.jupyter.widget-view+json": {
       "model_id": "0474224401a64f4691b366aaadbb3711",
       "version_major": 2,
       "version_minor": 0
      },
      "text/plain": [
       "HBox(children=(FloatProgress(value=0.0, max=1440.0), HTML(value='')))"
      ]
     },
     "metadata": {},
     "output_type": "display_data"
    },
    {
     "name": "stdout",
     "output_type": "stream",
     "text": [
      "\n",
      "+++ Salvaldo Resultados +++\n",
      "\n",
      "\n",
      "=========== Treinando/Validando modelos utilizando 100 usuários ===========\n",
      "+++ Preparando dados +++\n",
      "+++ Executando k-fold +++\n",
      "+++ Executando técnica 1 +++\n"
     ]
    },
    {
     "data": {
      "application/vnd.jupyter.widget-view+json": {
       "model_id": "ef6464894a414c99b6f06fa4d7a02c97",
       "version_major": 2,
       "version_minor": 0
      },
      "text/plain": [
       "HBox(children=(FloatProgress(value=0.0, max=1600.0), HTML(value='')))"
      ]
     },
     "metadata": {},
     "output_type": "display_data"
    },
    {
     "name": "stdout",
     "output_type": "stream",
     "text": [
      "\n",
      "+++ Executando técnica 2 +++\n"
     ]
    },
    {
     "data": {
      "application/vnd.jupyter.widget-view+json": {
       "model_id": "c36d39613fd040d2a6ecc0a3876789cd",
       "version_major": 2,
       "version_minor": 0
      },
      "text/plain": [
       "HBox(children=(FloatProgress(value=0.0, max=1600.0), HTML(value='')))"
      ]
     },
     "metadata": {},
     "output_type": "display_data"
    },
    {
     "name": "stdout",
     "output_type": "stream",
     "text": [
      "\n",
      "+++ Executando técnica 3 +++\n"
     ]
    },
    {
     "data": {
      "application/vnd.jupyter.widget-view+json": {
       "model_id": "592a5bf3da234ac98c1ac812b4005638",
       "version_major": 2,
       "version_minor": 0
      },
      "text/plain": [
       "HBox(children=(FloatProgress(value=0.0, max=1600.0), HTML(value='')))"
      ]
     },
     "metadata": {},
     "output_type": "display_data"
    },
    {
     "name": "stdout",
     "output_type": "stream",
     "text": [
      "\n",
      "+++ Executando técnica 4 +++\n"
     ]
    },
    {
     "data": {
      "application/vnd.jupyter.widget-view+json": {
       "model_id": "8173f0cf138a447abc3f43a0cdcaa799",
       "version_major": 2,
       "version_minor": 0
      },
      "text/plain": [
       "HBox(children=(FloatProgress(value=1.0, bar_style='info', max=1.0), HTML(value='')))"
      ]
     },
     "metadata": {},
     "output_type": "display_data"
    },
    {
     "name": "stdout",
     "output_type": "stream",
     "text": [
      "\n"
     ]
    },
    {
     "data": {
      "application/vnd.jupyter.widget-view+json": {
       "model_id": "976a8b7fcefd4091b9ab0b0021513bd3",
       "version_major": 2,
       "version_minor": 0
      },
      "text/plain": [
       "HBox(children=(FloatProgress(value=0.0, max=1600.0), HTML(value='')))"
      ]
     },
     "metadata": {},
     "output_type": "display_data"
    },
    {
     "name": "stdout",
     "output_type": "stream",
     "text": [
      "\n"
     ]
    },
    {
     "data": {
      "application/vnd.jupyter.widget-view+json": {
       "model_id": "206b01922fa443d3803de68837da98f9",
       "version_major": 2,
       "version_minor": 0
      },
      "text/plain": [
       "HBox(children=(FloatProgress(value=0.0, max=1600.0), HTML(value='')))"
      ]
     },
     "metadata": {},
     "output_type": "display_data"
    },
    {
     "name": "stdout",
     "output_type": "stream",
     "text": [
      "\n"
     ]
    },
    {
     "data": {
      "application/vnd.jupyter.widget-view+json": {
       "model_id": "9ea42f13c04c4fabbca0342f2bf5bc39",
       "version_major": 2,
       "version_minor": 0
      },
      "text/plain": [
       "HBox(children=(FloatProgress(value=0.0, max=1600.0), HTML(value='')))"
      ]
     },
     "metadata": {},
     "output_type": "display_data"
    },
    {
     "name": "stdout",
     "output_type": "stream",
     "text": [
      "\n",
      "+++ Executando técnica 5 +++\n"
     ]
    },
    {
     "data": {
      "application/vnd.jupyter.widget-view+json": {
       "model_id": "113e7079b63f410fb9214b12d01957b4",
       "version_major": 2,
       "version_minor": 0
      },
      "text/plain": [
       "HBox(children=(FloatProgress(value=1.0, bar_style='info', max=1.0), HTML(value='')))"
      ]
     },
     "metadata": {},
     "output_type": "display_data"
    },
    {
     "name": "stdout",
     "output_type": "stream",
     "text": [
      "\n"
     ]
    },
    {
     "data": {
      "application/vnd.jupyter.widget-view+json": {
       "model_id": "12be7d3c1e404beb8ce5578b9aafe832",
       "version_major": 2,
       "version_minor": 0
      },
      "text/plain": [
       "HBox(children=(FloatProgress(value=0.0, max=1600.0), HTML(value='')))"
      ]
     },
     "metadata": {},
     "output_type": "display_data"
    },
    {
     "name": "stdout",
     "output_type": "stream",
     "text": [
      "\n"
     ]
    },
    {
     "data": {
      "application/vnd.jupyter.widget-view+json": {
       "model_id": "c0c41654b64e49a4a221b7bc43d3609b",
       "version_major": 2,
       "version_minor": 0
      },
      "text/plain": [
       "HBox(children=(FloatProgress(value=0.0, max=1600.0), HTML(value='')))"
      ]
     },
     "metadata": {},
     "output_type": "display_data"
    },
    {
     "name": "stdout",
     "output_type": "stream",
     "text": [
      "\n"
     ]
    },
    {
     "data": {
      "application/vnd.jupyter.widget-view+json": {
       "model_id": "8d10a4d6150f486f870a70b549db876e",
       "version_major": 2,
       "version_minor": 0
      },
      "text/plain": [
       "HBox(children=(FloatProgress(value=0.0, max=1600.0), HTML(value='')))"
      ]
     },
     "metadata": {},
     "output_type": "display_data"
    },
    {
     "name": "stdout",
     "output_type": "stream",
     "text": [
      "\n",
      "+++ Salvaldo Resultados +++\n",
      "\n",
      "\n",
      "=========== Treinando/Validando modelos utilizando 110 usuários ===========\n",
      "+++ Preparando dados +++\n",
      "+++ Executando k-fold +++\n",
      "+++ Executando técnica 1 +++\n"
     ]
    },
    {
     "data": {
      "application/vnd.jupyter.widget-view+json": {
       "model_id": "ba758f7231e54492a333b69bc2fbd40f",
       "version_major": 2,
       "version_minor": 0
      },
      "text/plain": [
       "HBox(children=(FloatProgress(value=0.0, max=1760.0), HTML(value='')))"
      ]
     },
     "metadata": {},
     "output_type": "display_data"
    },
    {
     "name": "stdout",
     "output_type": "stream",
     "text": [
      "\n",
      "+++ Executando técnica 2 +++\n"
     ]
    },
    {
     "data": {
      "application/vnd.jupyter.widget-view+json": {
       "model_id": "2aa864205e6e4263a7719dd9f3dc8f0a",
       "version_major": 2,
       "version_minor": 0
      },
      "text/plain": [
       "HBox(children=(FloatProgress(value=0.0, max=1760.0), HTML(value='')))"
      ]
     },
     "metadata": {},
     "output_type": "display_data"
    },
    {
     "name": "stdout",
     "output_type": "stream",
     "text": [
      "\n",
      "+++ Executando técnica 3 +++\n"
     ]
    },
    {
     "data": {
      "application/vnd.jupyter.widget-view+json": {
       "model_id": "f1455b3a966c43a98a26dfc1f4175ea1",
       "version_major": 2,
       "version_minor": 0
      },
      "text/plain": [
       "HBox(children=(FloatProgress(value=0.0, max=1760.0), HTML(value='')))"
      ]
     },
     "metadata": {},
     "output_type": "display_data"
    },
    {
     "name": "stdout",
     "output_type": "stream",
     "text": [
      "\n",
      "+++ Executando técnica 4 +++\n"
     ]
    },
    {
     "data": {
      "application/vnd.jupyter.widget-view+json": {
       "model_id": "135655b188b44b4d9be335c900593665",
       "version_major": 2,
       "version_minor": 0
      },
      "text/plain": [
       "HBox(children=(FloatProgress(value=1.0, bar_style='info', max=1.0), HTML(value='')))"
      ]
     },
     "metadata": {},
     "output_type": "display_data"
    },
    {
     "name": "stdout",
     "output_type": "stream",
     "text": [
      "\n"
     ]
    },
    {
     "data": {
      "application/vnd.jupyter.widget-view+json": {
       "model_id": "fde7eb1625a348a5b585ac9a77e1572e",
       "version_major": 2,
       "version_minor": 0
      },
      "text/plain": [
       "HBox(children=(FloatProgress(value=0.0, max=1760.0), HTML(value='')))"
      ]
     },
     "metadata": {},
     "output_type": "display_data"
    },
    {
     "name": "stdout",
     "output_type": "stream",
     "text": [
      "\n"
     ]
    },
    {
     "data": {
      "application/vnd.jupyter.widget-view+json": {
       "model_id": "b172a87e0e164ec788ea8fbe02677bb6",
       "version_major": 2,
       "version_minor": 0
      },
      "text/plain": [
       "HBox(children=(FloatProgress(value=0.0, max=1760.0), HTML(value='')))"
      ]
     },
     "metadata": {},
     "output_type": "display_data"
    },
    {
     "name": "stdout",
     "output_type": "stream",
     "text": [
      "\n"
     ]
    },
    {
     "data": {
      "application/vnd.jupyter.widget-view+json": {
       "model_id": "2182835623144d849856ad5d5759a9af",
       "version_major": 2,
       "version_minor": 0
      },
      "text/plain": [
       "HBox(children=(FloatProgress(value=0.0, max=1760.0), HTML(value='')))"
      ]
     },
     "metadata": {},
     "output_type": "display_data"
    },
    {
     "name": "stdout",
     "output_type": "stream",
     "text": [
      "\n",
      "+++ Executando técnica 5 +++\n"
     ]
    },
    {
     "data": {
      "application/vnd.jupyter.widget-view+json": {
       "model_id": "f8a158f1acfe473c9511548890e80170",
       "version_major": 2,
       "version_minor": 0
      },
      "text/plain": [
       "HBox(children=(FloatProgress(value=1.0, bar_style='info', max=1.0), HTML(value='')))"
      ]
     },
     "metadata": {},
     "output_type": "display_data"
    },
    {
     "name": "stdout",
     "output_type": "stream",
     "text": [
      "\n"
     ]
    },
    {
     "data": {
      "application/vnd.jupyter.widget-view+json": {
       "model_id": "f6a927d6a3bc44dc95a34b04fea4b405",
       "version_major": 2,
       "version_minor": 0
      },
      "text/plain": [
       "HBox(children=(FloatProgress(value=0.0, max=1760.0), HTML(value='')))"
      ]
     },
     "metadata": {},
     "output_type": "display_data"
    },
    {
     "name": "stdout",
     "output_type": "stream",
     "text": [
      "\n"
     ]
    },
    {
     "data": {
      "application/vnd.jupyter.widget-view+json": {
       "model_id": "1ae0aea3eb874a14b0c056c49e4e04ce",
       "version_major": 2,
       "version_minor": 0
      },
      "text/plain": [
       "HBox(children=(FloatProgress(value=0.0, max=1760.0), HTML(value='')))"
      ]
     },
     "metadata": {},
     "output_type": "display_data"
    },
    {
     "name": "stdout",
     "output_type": "stream",
     "text": [
      "\n"
     ]
    },
    {
     "data": {
      "application/vnd.jupyter.widget-view+json": {
       "model_id": "eae6daedce6e4383b433352cb9edf170",
       "version_major": 2,
       "version_minor": 0
      },
      "text/plain": [
       "HBox(children=(FloatProgress(value=0.0, max=1760.0), HTML(value='')))"
      ]
     },
     "metadata": {},
     "output_type": "display_data"
    },
    {
     "name": "stdout",
     "output_type": "stream",
     "text": [
      "\n",
      "+++ Salvaldo Resultados +++\n",
      "\n",
      "\n",
      "=========== Treinando/Validando modelos utilizando 120 usuários ===========\n",
      "+++ Preparando dados +++\n",
      "+++ Executando k-fold +++\n",
      "+++ Executando técnica 1 +++\n"
     ]
    },
    {
     "data": {
      "application/vnd.jupyter.widget-view+json": {
       "model_id": "0573939a6afd4d5d81351dc908a563c1",
       "version_major": 2,
       "version_minor": 0
      },
      "text/plain": [
       "HBox(children=(FloatProgress(value=0.0, max=1920.0), HTML(value='')))"
      ]
     },
     "metadata": {},
     "output_type": "display_data"
    },
    {
     "name": "stdout",
     "output_type": "stream",
     "text": [
      "\n",
      "+++ Executando técnica 2 +++\n"
     ]
    },
    {
     "data": {
      "application/vnd.jupyter.widget-view+json": {
       "model_id": "695ad060f34649eaa3ef72ea16c40c03",
       "version_major": 2,
       "version_minor": 0
      },
      "text/plain": [
       "HBox(children=(FloatProgress(value=0.0, max=1920.0), HTML(value='')))"
      ]
     },
     "metadata": {},
     "output_type": "display_data"
    },
    {
     "name": "stdout",
     "output_type": "stream",
     "text": [
      "\n",
      "+++ Executando técnica 3 +++\n"
     ]
    },
    {
     "data": {
      "application/vnd.jupyter.widget-view+json": {
       "model_id": "ba6735e3c609498b8b900f6ae3612b8c",
       "version_major": 2,
       "version_minor": 0
      },
      "text/plain": [
       "HBox(children=(FloatProgress(value=0.0, max=1920.0), HTML(value='')))"
      ]
     },
     "metadata": {},
     "output_type": "display_data"
    },
    {
     "name": "stdout",
     "output_type": "stream",
     "text": [
      "\n",
      "+++ Executando técnica 4 +++\n"
     ]
    },
    {
     "data": {
      "application/vnd.jupyter.widget-view+json": {
       "model_id": "9564a41455ae4632bda2854f9c319897",
       "version_major": 2,
       "version_minor": 0
      },
      "text/plain": [
       "HBox(children=(FloatProgress(value=1.0, bar_style='info', max=1.0), HTML(value='')))"
      ]
     },
     "metadata": {},
     "output_type": "display_data"
    },
    {
     "name": "stdout",
     "output_type": "stream",
     "text": [
      "\n"
     ]
    },
    {
     "data": {
      "application/vnd.jupyter.widget-view+json": {
       "model_id": "6137372c9a364a6e81e3f4b00669e76a",
       "version_major": 2,
       "version_minor": 0
      },
      "text/plain": [
       "HBox(children=(FloatProgress(value=0.0, max=1920.0), HTML(value='')))"
      ]
     },
     "metadata": {},
     "output_type": "display_data"
    },
    {
     "name": "stdout",
     "output_type": "stream",
     "text": [
      "\n"
     ]
    },
    {
     "data": {
      "application/vnd.jupyter.widget-view+json": {
       "model_id": "3f797b25079644ba80b2a93e1e439834",
       "version_major": 2,
       "version_minor": 0
      },
      "text/plain": [
       "HBox(children=(FloatProgress(value=0.0, max=1920.0), HTML(value='')))"
      ]
     },
     "metadata": {},
     "output_type": "display_data"
    },
    {
     "name": "stdout",
     "output_type": "stream",
     "text": [
      "\n"
     ]
    },
    {
     "data": {
      "application/vnd.jupyter.widget-view+json": {
       "model_id": "54926b12c4144fcb9eff670661e81973",
       "version_major": 2,
       "version_minor": 0
      },
      "text/plain": [
       "HBox(children=(FloatProgress(value=0.0, max=1920.0), HTML(value='')))"
      ]
     },
     "metadata": {},
     "output_type": "display_data"
    },
    {
     "name": "stdout",
     "output_type": "stream",
     "text": [
      "\n"
     ]
    },
    {
     "ename": "KeyboardInterrupt",
     "evalue": "",
     "output_type": "error",
     "traceback": [
      "\u001b[1;31m---------------------------------------------------------------------------\u001b[0m",
      "\u001b[1;31mKeyboardInterrupt\u001b[0m                         Traceback (most recent call last)",
      "\u001b[1;32m<ipython-input-3-f34d27ed505c>\u001b[0m in \u001b[0;36m<module>\u001b[1;34m\u001b[0m\n\u001b[0;32m     67\u001b[0m                      \"th\" : 0}                # range(0,1)\n\u001b[0;32m     68\u001b[0m \u001b[1;33m\u001b[0m\u001b[0m\n\u001b[1;32m---> 69\u001b[1;33m             \u001b[0mmod3\u001b[0m \u001b[1;33m=\u001b[0m \u001b[0mmodelo\u001b[0m\u001b[1;33m(\u001b[0m\u001b[1;36m3\u001b[0m\u001b[1;33m,\u001b[0m \u001b[0mdados\u001b[0m\u001b[1;33m,\u001b[0m \u001b[0mkf\u001b[0m\u001b[1;33m,\u001b[0m \u001b[0mparam\u001b[0m\u001b[1;33m)\u001b[0m\u001b[1;33m\u001b[0m\u001b[1;33m\u001b[0m\u001b[0m\n\u001b[0m\u001b[0;32m     70\u001b[0m             \u001b[0mmods3\u001b[0m\u001b[1;33m.\u001b[0m\u001b[0mappend\u001b[0m\u001b[1;33m(\u001b[0m\u001b[1;33m[\u001b[0m\u001b[0mmod3\u001b[0m\u001b[1;33m,\u001b[0m \u001b[0mi\u001b[0m\u001b[1;33m,\u001b[0m \u001b[0mj\u001b[0m\u001b[1;33m]\u001b[0m\u001b[1;33m)\u001b[0m\u001b[1;33m\u001b[0m\u001b[1;33m\u001b[0m\u001b[0m\n\u001b[0;32m     71\u001b[0m \u001b[1;33m\u001b[0m\u001b[0m\n",
      "\u001b[1;32m~\\Desktop\\PGC\\PGC\\Final\\Códigos\\models.py\u001b[0m in \u001b[0;36mmodelo\u001b[1;34m(mod, dados, kf, params)\u001b[0m\n\u001b[0;32m   1015\u001b[0m                 \u001b[1;31m# SVM multiclasse\u001b[0m\u001b[1;33m\u001b[0m\u001b[1;33m\u001b[0m\u001b[1;33m\u001b[0m\u001b[0m\n\u001b[0;32m   1016\u001b[0m                 \u001b[0mmod_mc\u001b[0m \u001b[1;33m=\u001b[0m \u001b[0mSVC\u001b[0m\u001b[1;33m(\u001b[0m\u001b[0mrandom_state\u001b[0m\u001b[1;33m=\u001b[0m\u001b[1;36m0\u001b[0m\u001b[1;33m,\u001b[0m \u001b[0mgamma\u001b[0m \u001b[1;33m=\u001b[0m \u001b[1;34m\"auto\"\u001b[0m\u001b[1;33m,\u001b[0m \u001b[0mprobability\u001b[0m\u001b[1;33m=\u001b[0m\u001b[1;32mTrue\u001b[0m\u001b[1;33m)\u001b[0m\u001b[1;33m\u001b[0m\u001b[1;33m\u001b[0m\u001b[0m\n\u001b[1;32m-> 1017\u001b[1;33m                 \u001b[0mmod_mc\u001b[0m\u001b[1;33m.\u001b[0m\u001b[0mfit\u001b[0m\u001b[1;33m(\u001b[0m\u001b[0mx_train\u001b[0m\u001b[1;33m,\u001b[0m \u001b[0my_train_mc\u001b[0m\u001b[1;33m)\u001b[0m\u001b[1;33m\u001b[0m\u001b[1;33m\u001b[0m\u001b[0m\n\u001b[0m\u001b[0;32m   1018\u001b[0m \u001b[1;33m\u001b[0m\u001b[0m\n\u001b[0;32m   1019\u001b[0m                 \u001b[1;31m# SVM binário\u001b[0m\u001b[1;33m\u001b[0m\u001b[1;33m\u001b[0m\u001b[1;33m\u001b[0m\u001b[0m\n",
      "\u001b[1;32mc:\\users\\mathe\\appdata\\local\\programs\\python\\python38\\lib\\site-packages\\sklearn\\svm\\_base.py\u001b[0m in \u001b[0;36mfit\u001b[1;34m(self, X, y, sample_weight)\u001b[0m\n\u001b[0;32m    197\u001b[0m \u001b[1;33m\u001b[0m\u001b[0m\n\u001b[0;32m    198\u001b[0m         \u001b[0mseed\u001b[0m \u001b[1;33m=\u001b[0m \u001b[0mrnd\u001b[0m\u001b[1;33m.\u001b[0m\u001b[0mrandint\u001b[0m\u001b[1;33m(\u001b[0m\u001b[0mnp\u001b[0m\u001b[1;33m.\u001b[0m\u001b[0miinfo\u001b[0m\u001b[1;33m(\u001b[0m\u001b[1;34m'i'\u001b[0m\u001b[1;33m)\u001b[0m\u001b[1;33m.\u001b[0m\u001b[0mmax\u001b[0m\u001b[1;33m)\u001b[0m\u001b[1;33m\u001b[0m\u001b[1;33m\u001b[0m\u001b[0m\n\u001b[1;32m--> 199\u001b[1;33m         \u001b[0mfit\u001b[0m\u001b[1;33m(\u001b[0m\u001b[0mX\u001b[0m\u001b[1;33m,\u001b[0m \u001b[0my\u001b[0m\u001b[1;33m,\u001b[0m \u001b[0msample_weight\u001b[0m\u001b[1;33m,\u001b[0m \u001b[0msolver_type\u001b[0m\u001b[1;33m,\u001b[0m \u001b[0mkernel\u001b[0m\u001b[1;33m,\u001b[0m \u001b[0mrandom_seed\u001b[0m\u001b[1;33m=\u001b[0m\u001b[0mseed\u001b[0m\u001b[1;33m)\u001b[0m\u001b[1;33m\u001b[0m\u001b[1;33m\u001b[0m\u001b[0m\n\u001b[0m\u001b[0;32m    200\u001b[0m         \u001b[1;31m# see comment on the other call to np.iinfo in this file\u001b[0m\u001b[1;33m\u001b[0m\u001b[1;33m\u001b[0m\u001b[1;33m\u001b[0m\u001b[0m\n\u001b[0;32m    201\u001b[0m \u001b[1;33m\u001b[0m\u001b[0m\n",
      "\u001b[1;32mc:\\users\\mathe\\appdata\\local\\programs\\python\\python38\\lib\\site-packages\\sklearn\\svm\\_base.py\u001b[0m in \u001b[0;36m_dense_fit\u001b[1;34m(self, X, y, sample_weight, solver_type, kernel, random_seed)\u001b[0m\n\u001b[0;32m    248\u001b[0m         \u001b[0mself\u001b[0m\u001b[1;33m.\u001b[0m\u001b[0msupport_\u001b[0m\u001b[1;33m,\u001b[0m \u001b[0mself\u001b[0m\u001b[1;33m.\u001b[0m\u001b[0msupport_vectors_\u001b[0m\u001b[1;33m,\u001b[0m \u001b[0mself\u001b[0m\u001b[1;33m.\u001b[0m\u001b[0m_n_support\u001b[0m\u001b[1;33m,\u001b[0m\u001b[0;31m \u001b[0m\u001b[0;31m\\\u001b[0m\u001b[1;33m\u001b[0m\u001b[1;33m\u001b[0m\u001b[0m\n\u001b[0;32m    249\u001b[0m             \u001b[0mself\u001b[0m\u001b[1;33m.\u001b[0m\u001b[0mdual_coef_\u001b[0m\u001b[1;33m,\u001b[0m \u001b[0mself\u001b[0m\u001b[1;33m.\u001b[0m\u001b[0mintercept_\u001b[0m\u001b[1;33m,\u001b[0m \u001b[0mself\u001b[0m\u001b[1;33m.\u001b[0m\u001b[0mprobA_\u001b[0m\u001b[1;33m,\u001b[0m\u001b[0;31m \u001b[0m\u001b[0;31m\\\u001b[0m\u001b[1;33m\u001b[0m\u001b[1;33m\u001b[0m\u001b[0m\n\u001b[1;32m--> 250\u001b[1;33m             self.probB_, self.fit_status_ = libsvm.fit(\n\u001b[0m\u001b[0;32m    251\u001b[0m                 \u001b[0mX\u001b[0m\u001b[1;33m,\u001b[0m \u001b[0my\u001b[0m\u001b[1;33m,\u001b[0m\u001b[1;33m\u001b[0m\u001b[1;33m\u001b[0m\u001b[0m\n\u001b[0;32m    252\u001b[0m                 \u001b[0msvm_type\u001b[0m\u001b[1;33m=\u001b[0m\u001b[0msolver_type\u001b[0m\u001b[1;33m,\u001b[0m \u001b[0msample_weight\u001b[0m\u001b[1;33m=\u001b[0m\u001b[0msample_weight\u001b[0m\u001b[1;33m,\u001b[0m\u001b[1;33m\u001b[0m\u001b[1;33m\u001b[0m\u001b[0m\n",
      "\u001b[1;31mKeyboardInterrupt\u001b[0m: "
     ]
    }
   ],
   "source": [
    "for qtd_users_p_base in range(5,101,5):\n",
    "\n",
    "    qtd_users = qtd_users_p_base * 2\n",
    "    print(\"=========== Treinando/Validando modelos utilizando\", qtd_users, \"usuários ===========\")\n",
    "    print(\"+++ Preparando dados +++\")\n",
    "          \n",
    "    n = qtd_users_p_base * 4\n",
    "    # dados = pd.concat([gun.iloc[:n, :], gay.iloc[:n, :], rest.iloc[:n, :]], axis=0, sort=False).fillna(\"\").reset_index(drop=True)\n",
    "    dados = pd.concat([gun.iloc[:n, :], gay.iloc[:n, :]], axis=0, sort=False).fillna(\"\").reset_index(drop=True)\n",
    "\n",
    "    print(\"+++ Executando k-fold +++\")\n",
    "    # Cria folds de usuários e amostras\n",
    "    user_list = dados.User_Label\n",
    "    sample_list = dados.Sample_Label\n",
    "    interno, externo = k_usuarios(user_list, n_folds=5)\n",
    "    kf = k_amostras(interno, externo, pd.concat([user_list, sample_list], axis=1), method=\"LOO\") # LOO, DifferentTexts, DifferentPatterns\n",
    "\n",
    "\n",
    "    ####### Execução treinamentos e validações\n",
    "    ### Mod1\n",
    "    print(\"+++ Executando técnica 1 +++\")\n",
    "    param = {\"dist_R\" : [2],\n",
    "             \"dist_A\" : [2],\n",
    "             \"t\" : 1.2,\n",
    "             \"k\": 1.1}\n",
    "    mod1 = modelo(1, dados, kf, param)\n",
    "\n",
    "\n",
    "    ### Mod2\n",
    "    print(\"+++ Executando técnica 2 +++\")\n",
    "    param = {\"dist_R\" : [2],\n",
    "             \"dist_A\" : [2],\n",
    "             \"t\" : 1.2,\n",
    "             \"k\": 0.5}\n",
    "\n",
    "    mod2 = modelo(2, dados, kf, param)\n",
    "\n",
    "\n",
    "    ### Mod3\n",
    "    print(\"+++ Executando técnica 3 +++\")\n",
    "    param = {\"dist_R\" : [2],\n",
    "             \"dist_A\" : [2],\n",
    "             \"t\" : 1.2,\n",
    "             \"k\": 1.1}\n",
    "\n",
    "    mod21 = modelo(2.1, dados, kf, param)\n",
    "\n",
    "\n",
    "    ### Mod4\n",
    "    print(\"+++ Executando técnica 4 +++\")\n",
    "    # Primeiro com \"new\" para extrair variáveis\n",
    "    param = {\"action\": \"new\",     # new, load\n",
    "             \"algorithm\" : \"tree\",        # tree, svm\n",
    "             \"decision\" : \"merge\",        # binary, multiclass, merge\n",
    "             \"th\" : 0}                # range(0,1)\n",
    "    mod3 = modelo(3, dados, kf, param)\n",
    "\n",
    "\n",
    "    # Itera entre parametros\n",
    "    mods3 = []\n",
    "    for i in [\"tree\", \"svm\"]:\n",
    "        for j in [\"merge\"]:\n",
    "\n",
    "            param = {\"action\": \"load\",     # new, load\n",
    "                     \"algorithm\" : i,        # tree, svm\n",
    "                     \"decision\" : j,        # binary, multiclass, merge\n",
    "                     \"th\" : 0}                # range(0,1)\n",
    "\n",
    "            mod3 = modelo(3, dados, kf, param)\n",
    "            mods3.append([mod3, i, j])\n",
    "\n",
    "\n",
    "    ### Mod5\n",
    "    print(\"+++ Executando técnica 5 +++\")\n",
    "    # Primeiro com \"new\" para extrair variáveis\n",
    "    tree_params = {\"criterion\" : 'gini',\n",
    "                   \"splitter\" : 'best',\n",
    "                   \"max_depth\" : 10,\n",
    "                   \"min_samples_split\" : 2, \n",
    "                   \"min_samples_leaf\" : 2, \n",
    "                   \"min_weight_fraction_leaf\" : 0.0,\n",
    "                   \"max_features\" : 10, \n",
    "                   \"random_state\" : 0,\n",
    "                   \"max_leaf_nodes\" : None,\n",
    "                   \"min_impurity_decrease\" : 0.0,\n",
    "                   \"min_impurity_split\" : None,\n",
    "                   \"class_weight\" : None,\n",
    "                   \"presort\" : False}\n",
    "    param = {\"action\": \"new\",               # new, load\n",
    "             \"algorithm\" : \"tree\",           # tree, svm\n",
    "             \"decision\" : \"merge\",           # binary, multiclass, merge\n",
    "             \"model_params\" : tree_params}       \n",
    "    mod4 = modelo(4, dados, kf, param)\n",
    "\n",
    "    mods4 = []\n",
    "    for i in [\"tree\", \"svm\"]:\n",
    "        for j in [\"merge\"]:\n",
    "            tree_params = {\"criterion\" : 'gini',\n",
    "                           \"splitter\" : 'best',\n",
    "                           \"max_depth\" : 10,\n",
    "                           \"min_samples_split\" : 2,\n",
    "                           \"min_samples_leaf\" : 2,\n",
    "                           \"min_weight_fraction_leaf\" : 0.0,\n",
    "                           \"max_features\" : 10,\n",
    "                           \"random_state\" : 0,\n",
    "                           \"max_leaf_nodes\" : None,\n",
    "                           \"min_impurity_decrease\" : 0.0,\n",
    "                           \"min_impurity_split\" : None,\n",
    "                           \"class_weight\" : None,\n",
    "                           \"presort\" : False}\n",
    "\n",
    "            param = {\"action\": \"load\",               # new, load\n",
    "                     \"algorithm\" : i,           # tree, svm\n",
    "                     \"decision\" : j,                 # binary, multiclass, merge\n",
    "                     \"model_params\" : tree_params}       \n",
    "\n",
    "            mod4 = modelo(4, dados, kf, param)\n",
    "            mods4.append([mod4, i, j])\n",
    "\n",
    "\n",
    "    ###### Salva resultados dos modelos\n",
    "    print(\"+++ Salvaldo Resultados +++\\n\\n\")        \n",
    "    var_to_pickle(mod1, \"../Caches/results_final_mod1_\" + str(qtd_users) + \"users\")\n",
    "    var_to_pickle(mod2, \"../Caches/results_final_mod2_\" + str(qtd_users) + \"users\")\n",
    "    var_to_pickle(mod21, \"../Caches/results_final_mod21_\" + str(qtd_users) + \"users\")\n",
    "    var_to_pickle(mods3, \"../Caches/results_final_mod3_\" + str(qtd_users) + \"users\")\n",
    "    var_to_pickle(mods4, \"../Caches/results_final_mod4_\" + str(qtd_users) + \"users\")"
   ]
  },
  {
   "cell_type": "markdown",
   "metadata": {},
   "source": [
    "##### Iteração entre Qtd de Usuários (até 1200, técnicas 1,2,3)"
   ]
  },
  {
   "cell_type": "code",
   "execution_count": null,
   "metadata": {
    "ExecuteTime": {
     "end_time": "2020-03-05T21:53:41.997260Z",
     "start_time": "2020-03-05T03:44:43.927493Z"
    },
    "scrolled": true
   },
   "outputs": [],
   "source": [
    "for qtd_users_p_base in range(5,600,5):\n",
    "\n",
    "    qtd_users = qtd_users_p_base * 2\n",
    "    print(\"=========== Treinando/Validando modelos utilizando\", qtd_users, \"usuários ===========\")\n",
    "    print(\"+++ Preparando dados +++\")\n",
    "          \n",
    "    n = qtd_users_p_base * 4\n",
    "    # dados = pd.concat([gun.iloc[:n, :], gay.iloc[:n, :], rest.iloc[:n, :]], axis=0, sort=False).fillna(\"\").reset_index(drop=True)\n",
    "    dados = pd.concat([gun.iloc[:n, :], gay.iloc[:n, :]], axis=0, sort=False).fillna(\"\").reset_index(drop=True)\n",
    "\n",
    "    print(\"+++ Executando k-fold +++\")\n",
    "    # Cria folds de usuários e amostras\n",
    "    user_list = dados.User_Label\n",
    "    sample_list = dados.Sample_Label\n",
    "    interno, externo = k_usuarios(user_list, n_folds=5)\n",
    "    kf = k_amostras(interno, externo, pd.concat([user_list, sample_list], axis=1), method=\"LOO\") # LOO, DifferentTexts, DifferentPatterns\n",
    "\n",
    "\n",
    "    ####### Execução treinamentos e validações\n",
    "    ### Mod1\n",
    "    print(\"+++ Executando técnica 1 +++\")\n",
    "    param = {\"dist_R\" : [2],\n",
    "             \"dist_A\" : [2],\n",
    "             \"t\" : 1.2,\n",
    "             \"k\": 1.1}\n",
    "    mod1 = modelo(1, dados, kf, param)\n",
    "\n",
    "\n",
    "    ### Mod2\n",
    "    print(\"+++ Executando técnica 2 +++\")\n",
    "    param = {\"dist_R\" : [2],\n",
    "             \"dist_A\" : [2],\n",
    "             \"t\" : 1.2,\n",
    "             \"k\": 0.5}\n",
    "\n",
    "    mod2 = modelo(2, dados, kf, param)\n",
    "\n",
    "\n",
    "    ### Mod3\n",
    "    print(\"+++ Executando técnica 3 +++\")\n",
    "    param = {\"dist_R\" : [2],\n",
    "             \"dist_A\" : [2],\n",
    "             \"t\" : 1.2,\n",
    "             \"k\": 1.1}\n",
    "\n",
    "    mod21 = modelo(2.1, dados, kf, param)\n",
    "\n",
    "    ###### Salva resultados dos modelos\n",
    "    print(\"+++ Salvaldo Resultados +++\\n\\n\")        \n",
    "    var_to_pickle(mod1, \"../Caches/results_final_mod1_\" + str(qtd_users) + \"users\")\n",
    "    var_to_pickle(mod2, \"../Caches/results_final_mod2_\" + str(qtd_users) + \"users\")\n",
    "    var_to_pickle(mod21, \"../Caches/results_final_mod21_\" + str(qtd_users) + \"users\")"
   ]
  },
  {
   "cell_type": "markdown",
   "metadata": {},
   "source": [
    "# Análises adicionais"
   ]
  },
  {
   "cell_type": "markdown",
   "metadata": {},
   "source": [
    "##### Diferentes textos - verdadeiro/falso"
   ]
  },
  {
   "cell_type": "code",
   "execution_count": null,
   "metadata": {
    "ExecuteTime": {
     "end_time": "2020-03-05T03:02:07.961358Z",
     "start_time": "2020-03-05T02:25:51.093585Z"
    }
   },
   "outputs": [],
   "source": [
    "for qtd_users_p_base in [10, 100]:\n",
    "\n",
    "    qtd_users = qtd_users_p_base * 2\n",
    "    print(\"=========== Treinando/Validando modelos utilizando\", qtd_users, \"usuários ===========\")\n",
    "    print(\"+++ Preparando dados +++\")\n",
    "          \n",
    "    n = qtd_users_p_base * 4\n",
    "    # dados = pd.concat([gun.iloc[:n, :], gay.iloc[:n, :], rest.iloc[:n, :]], axis=0, sort=False).fillna(\"\").reset_index(drop=True)\n",
    "    dados = pd.concat([gun.iloc[:n, :], gay.iloc[:n, :]], axis=0, sort=False).fillna(\"\").reset_index(drop=True)\n",
    "\n",
    "    print(\"+++ Executando k-fold +++\")\n",
    "    # Cria folds de usuários e amostras\n",
    "    user_list = dados.User_Label\n",
    "    sample_list = dados.Sample_Label\n",
    "    interno, externo = k_usuarios(user_list, n_folds=5)\n",
    "    kf = k_amostras(interno, externo, pd.concat([user_list, sample_list], axis=1), method=\"DifferentTexts\") # LOO, DifferentTexts, DifferentPatterns\n",
    "\n",
    "\n",
    "    ####### Execução treinamentos e validações\n",
    "    ### Mod1\n",
    "    print(\"+++ Executando técnica 1 +++\")\n",
    "    param = {\"dist_R\" : [2],\n",
    "             \"dist_A\" : [2],\n",
    "             \"t\" : 1.2,\n",
    "             \"k\": 1.1}\n",
    "    mod1 = modelo(1, dados, kf, param)\n",
    "\n",
    "\n",
    "    ### Mod2\n",
    "    print(\"+++ Executando técnica 2 +++\")\n",
    "    param = {\"dist_R\" : [2],\n",
    "             \"dist_A\" : [2],\n",
    "             \"t\" : 1.2,\n",
    "             \"k\": 0.5}\n",
    "\n",
    "    mod2 = modelo(2, dados, kf, param)\n",
    "\n",
    "\n",
    "    ### Mod3\n",
    "    print(\"+++ Executando técnica 3 +++\")\n",
    "    param = {\"dist_R\" : [2],\n",
    "             \"dist_A\" : [2],\n",
    "             \"t\" : 1.2,\n",
    "             \"k\": 1.1}\n",
    "\n",
    "    mod21 = modelo(2.1, dados, kf, param)\n",
    "\n",
    "\n",
    "    ### Mod4\n",
    "    print(\"+++ Executando técnica 4 +++\")\n",
    "    # Primeiro com \"new\" para extrair variáveis\n",
    "    param = {\"action\": \"new\",     # new, load\n",
    "             \"algorithm\" : \"tree\",        # tree, svm\n",
    "             \"decision\" : \"merge\",        # binary, multiclass, merge\n",
    "             \"th\" : 0}                # range(0,1)\n",
    "    mod3 = modelo(3, dados, kf, param)\n",
    "\n",
    "\n",
    "    # Itera entre parametros\n",
    "    mods3 = []\n",
    "    for i in [\"tree\", \"svm\"]:\n",
    "        for j in [\"merge\"]:\n",
    "\n",
    "            param = {\"action\": \"load\",     # new, load\n",
    "                     \"algorithm\" : i,        # tree, svm\n",
    "                     \"decision\" : j,        # binary, multiclass, merge\n",
    "                     \"th\" : 0}                # range(0,1)\n",
    "\n",
    "            mod3 = modelo(3, dados, kf, param)\n",
    "            mods3.append([mod3, i, j])\n",
    "\n",
    "\n",
    "    ### Mod5\n",
    "    print(\"+++ Executando técnica 5 +++\")\n",
    "    # Primeiro com \"new\" para extrair variáveis\n",
    "    tree_params = {\"criterion\" : 'gini',\n",
    "                   \"splitter\" : 'best',\n",
    "                   \"max_depth\" : 10,\n",
    "                   \"min_samples_split\" : 2, \n",
    "                   \"min_samples_leaf\" : 2, \n",
    "                   \"min_weight_fraction_leaf\" : 0.0,\n",
    "                   \"max_features\" : 10, \n",
    "                   \"random_state\" : 0,\n",
    "                   \"max_leaf_nodes\" : None,\n",
    "                   \"min_impurity_decrease\" : 0.0,\n",
    "                   \"min_impurity_split\" : None,\n",
    "                   \"class_weight\" : None,\n",
    "                   \"presort\" : False}\n",
    "    param = {\"action\": \"new\",               # new, load\n",
    "             \"algorithm\" : \"tree\",           # tree, svm\n",
    "             \"decision\" : \"merge\",           # binary, multiclass, merge\n",
    "             \"model_params\" : tree_params}       \n",
    "    mod4 = modelo(4, dados, kf, param)\n",
    "\n",
    "    mods4 = []\n",
    "    for i in [\"tree\", \"svm\"]:\n",
    "        for j in [\"merge\"]:\n",
    "\n",
    "            tree_params = {\"criterion\" : 'gini',\n",
    "                           \"splitter\" : 'best',\n",
    "                           \"max_depth\" : 10,\n",
    "                           \"min_samples_split\" : 2,\n",
    "                           \"min_samples_leaf\" : 2,\n",
    "                           \"min_weight_fraction_leaf\" : 0.0,\n",
    "                           \"max_features\" : 10,\n",
    "                           \"random_state\" : 0,\n",
    "                           \"max_leaf_nodes\" : None,\n",
    "                           \"min_impurity_decrease\" : 0.0,\n",
    "                           \"min_impurity_split\" : None,\n",
    "                           \"class_weight\" : None,\n",
    "                           \"presort\" : False}\n",
    "\n",
    "            param = {\"action\": \"load\",               # new, load\n",
    "                     \"algorithm\" : i,           # tree, svm\n",
    "                     \"decision\" : j,                 # binary, multiclass, merge\n",
    "                     \"model_params\" : tree_params}       \n",
    "\n",
    "            mod4 = modelo(4, dados, kf, param)\n",
    "            mods4.append([mod4, i, j])\n",
    "\n",
    "\n",
    "    ###### Salva resultados dos modelos\n",
    "    print(\"+++ Salvaldo Resultados +++\\n\\n\")        \n",
    "    var_to_pickle(mod1, \"../Caches/results_final_mod1_\" + str(qtd_users) + \"users_DT\")\n",
    "    var_to_pickle(mod2, \"../Caches/results_final_mod2_\" + str(qtd_users) + \"users_DT\")\n",
    "    var_to_pickle(mod21, \"../Caches/results_final_mod21_\" + str(qtd_users) + \"users_DT\")\n",
    "    var_to_pickle(mods3, \"../Caches/results_final_mod3_\" + str(qtd_users) + \"users_DT\")\n",
    "    var_to_pickle(mods4, \"../Caches/results_final_mod4_\" + str(qtd_users) + \"users_DT\")"
   ]
  },
  {
   "cell_type": "markdown",
   "metadata": {},
   "source": [
    "##### Diferentes padrões - original/cópia"
   ]
  },
  {
   "cell_type": "code",
   "execution_count": null,
   "metadata": {
    "ExecuteTime": {
     "end_time": "2020-03-05T03:33:44.679567Z",
     "start_time": "2020-03-05T03:02:12.153387Z"
    },
    "scrolled": true
   },
   "outputs": [],
   "source": [
    "for qtd_users_p_base in [10, 100]:\n",
    "\n",
    "    qtd_users = qtd_users_p_base * 2\n",
    "    print(\"=========== Treinando/Validando modelos utilizando\", qtd_users, \"usuários ===========\")\n",
    "    print(\"+++ Preparando dados +++\")\n",
    "          \n",
    "    n = qtd_users_p_base * 4\n",
    "    # dados = pd.concat([gun.iloc[:n, :], gay.iloc[:n, :], rest.iloc[:n, :]], axis=0, sort=False).fillna(\"\").reset_index(drop=True)\n",
    "    dados = pd.concat([gun.iloc[:n, :], gay.iloc[:n, :]], axis=0, sort=False).fillna(\"\").reset_index(drop=True)\n",
    "\n",
    "    print(\"+++ Executando k-fold +++\")\n",
    "    # Cria folds de usuários e amostras\n",
    "    user_list = dados.User_Label\n",
    "    sample_list = dados.Sample_Label\n",
    "    interno, externo = k_usuarios(user_list, n_folds=5)\n",
    "    kf = k_amostras(interno, externo, pd.concat([user_list, sample_list], axis=1), method=\"DifferentPatterns\") # LOO, DifferentTexts, DifferentPatterns\n",
    "\n",
    "\n",
    "    ####### Execução treinamentos e validações\n",
    "    ### Mod1\n",
    "    print(\"+++ Executando técnica 1 +++\")\n",
    "    param = {\"dist_R\" : [2],\n",
    "             \"dist_A\" : [2],\n",
    "             \"t\" : 1.2,\n",
    "             \"k\": 1.1}\n",
    "    mod1 = modelo(1, dados, kf, param)\n",
    "\n",
    "\n",
    "    ### Mod2\n",
    "    print(\"+++ Executando técnica 2 +++\")\n",
    "    param = {\"dist_R\" : [2],\n",
    "             \"dist_A\" : [2],\n",
    "             \"t\" : 1.2,\n",
    "             \"k\": 0.5}\n",
    "\n",
    "    mod2 = modelo(2, dados, kf, param)\n",
    "\n",
    "\n",
    "    ### Mod3\n",
    "    print(\"+++ Executando técnica 3 +++\")\n",
    "    param = {\"dist_R\" : [2],\n",
    "             \"dist_A\" : [2],\n",
    "             \"t\" : 1.2,\n",
    "             \"k\": 1.1}\n",
    "\n",
    "    mod21 = modelo(2.1, dados, kf, param)\n",
    "\n",
    "\n",
    "    ### Mod4\n",
    "    print(\"+++ Executando técnica 4 +++\")\n",
    "    # Primeiro com \"new\" para extrair variáveis\n",
    "    param = {\"action\": \"new\",     # new, load\n",
    "             \"algorithm\" : \"tree\",        # tree, svm\n",
    "             \"decision\" : \"merge\",        # binary, multiclass, merge\n",
    "             \"th\" : 0}                # range(0,1)\n",
    "    mod3 = modelo(3, dados, kf, param)\n",
    "\n",
    "\n",
    "    # Itera entre parametros\n",
    "    mods3 = []\n",
    "    for i in [\"tree\", \"svm\"]:\n",
    "        for j in [\"merge\"]:\n",
    "\n",
    "            param = {\"action\": \"load\",     # new, load\n",
    "                     \"algorithm\" : i,        # tree, svm\n",
    "                     \"decision\" : j,        # binary, multiclass, merge\n",
    "                     \"th\" : 0}                # range(0,1)\n",
    "\n",
    "            mod3 = modelo(3, dados, kf, param)\n",
    "            mods3.append([mod3, i, j])\n",
    "\n",
    "\n",
    "    ### Mod5\n",
    "    print(\"+++ Executando técnica 5 +++\")\n",
    "    # Primeiro com \"new\" para extrair variáveis\n",
    "    tree_params = {\"criterion\" : 'gini',\n",
    "                   \"splitter\" : 'best',\n",
    "                   \"max_depth\" : 10,\n",
    "                   \"min_samples_split\" : 2, \n",
    "                   \"min_samples_leaf\" : 2, \n",
    "                   \"min_weight_fraction_leaf\" : 0.0,\n",
    "                   \"max_features\" : 10, \n",
    "                   \"random_state\" : 0,\n",
    "                   \"max_leaf_nodes\" : None,\n",
    "                   \"min_impurity_decrease\" : 0.0,\n",
    "                   \"min_impurity_split\" : None,\n",
    "                   \"class_weight\" : None,\n",
    "                   \"presort\" : False}\n",
    "    param = {\"action\": \"new\",               # new, load\n",
    "             \"algorithm\" : \"tree\",           # tree, svm\n",
    "             \"decision\" : \"merge\",           # binary, multiclass, merge\n",
    "             \"model_params\" : tree_params}       \n",
    "    mod4 = modelo(4, dados, kf, param)\n",
    "\n",
    "    mods4 = []\n",
    "    for i in [\"tree\", \"svm\"]:\n",
    "        for j in [\"merge\"]:\n",
    "\n",
    "            tree_params = {\"criterion\" : 'gini',\n",
    "                           \"splitter\" : 'best',\n",
    "                           \"max_depth\" : 10,\n",
    "                           \"min_samples_split\" : 2,\n",
    "                           \"min_samples_leaf\" : 2,\n",
    "                           \"min_weight_fraction_leaf\" : 0.0,\n",
    "                           \"max_features\" : 10,\n",
    "                           \"random_state\" : 0,\n",
    "                           \"max_leaf_nodes\" : None,\n",
    "                           \"min_impurity_decrease\" : 0.0,\n",
    "                           \"min_impurity_split\" : None,\n",
    "                           \"class_weight\" : None,\n",
    "                           \"presort\" : False}\n",
    "\n",
    "            param = {\"action\": \"load\",               # new, load\n",
    "                     \"algorithm\" : i,           # tree, svm\n",
    "                     \"decision\" : j,                 # binary, multiclass, merge\n",
    "                     \"model_params\" : tree_params}       \n",
    "\n",
    "            mod4 = modelo(4, dados, kf, param)\n",
    "            mods4.append([mod4, i, j])\n",
    "\n",
    "\n",
    "    ###### Salva resultados dos modelos\n",
    "    print(\"+++ Salvaldo Resultados +++\\n\\n\")        \n",
    "    var_to_pickle(mod1, \"../Caches/results_final_mod1_\" + str(qtd_users) + \"users_DP\")\n",
    "    var_to_pickle(mod2, \"../Caches/results_final_mod2_\" + str(qtd_users) + \"users_DP\")\n",
    "    var_to_pickle(mod21, \"../Caches/results_final_mod21_\" + str(qtd_users) + \"users_DP\")\n",
    "    var_to_pickle(mods3, \"../Caches/results_final_mod3_\" + str(qtd_users) + \"users_DP\")\n",
    "    var_to_pickle(mods4, \"../Caches/results_final_mod4_\" + str(qtd_users) + \"users_DP\")"
   ]
  },
  {
   "cell_type": "code",
   "execution_count": null,
   "metadata": {},
   "outputs": [],
   "source": []
  }
 ],
 "metadata": {
  "kernelspec": {
   "display_name": "Python 3",
   "language": "python",
   "name": "python3"
  },
  "language_info": {
   "codemirror_mode": {
    "name": "ipython",
    "version": 3
   },
   "file_extension": ".py",
   "mimetype": "text/x-python",
   "name": "python",
   "nbconvert_exporter": "python",
   "pygments_lexer": "ipython3",
   "version": "3.8.2"
  },
  "toc": {
   "base_numbering": 1,
   "nav_menu": {},
   "number_sections": true,
   "sideBar": true,
   "skip_h1_title": false,
   "title_cell": "Table of Contents",
   "title_sidebar": "Contents",
   "toc_cell": false,
   "toc_position": {},
   "toc_section_display": true,
   "toc_window_display": false
  },
  "varInspector": {
   "cols": {
    "lenName": 16,
    "lenType": 16,
    "lenVar": 40
   },
   "kernels_config": {
    "python": {
     "delete_cmd_postfix": "",
     "delete_cmd_prefix": "del ",
     "library": "var_list.py",
     "varRefreshCmd": "print(var_dic_list())"
    },
    "r": {
     "delete_cmd_postfix": ") ",
     "delete_cmd_prefix": "rm(",
     "library": "var_list.r",
     "varRefreshCmd": "cat(var_dic_list()) "
    }
   },
   "position": {
    "height": "541.8px",
    "left": "925px",
    "right": "20px",
    "top": "116px",
    "width": "588.8px"
   },
   "types_to_exclude": [
    "module",
    "function",
    "builtin_function_or_method",
    "instance",
    "_Feature"
   ],
   "window_display": false
  }
 },
 "nbformat": 4,
 "nbformat_minor": 2
}
